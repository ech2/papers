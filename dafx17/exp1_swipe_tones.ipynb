{
 "cells": [
  {
   "cell_type": "code",
   "execution_count": 3,
   "metadata": {
    "collapsed": true,
    "deletable": true,
    "editable": true
   },
   "outputs": [],
   "source": [
    "import sys\n",
    "from glob import glob\n",
    "%matplotlib inline\n",
    "\n",
    "import matplotlib.mlab as mlab\n",
    "\n",
    "from IPython.display import Audio\n",
    "\n",
    "\n",
    "sys.path.append('.')\n",
    "import dsp ; dsp = reload(dsp) ; from dsp import *\n",
    "import plotting ; plotting = reload(plotting) ; from plotting import *\n",
    "import framework ; framework = reload(framework) ; from framework import *"
   ]
  },
  {
   "cell_type": "code",
   "execution_count": 6,
   "metadata": {
    "collapsed": false,
    "deletable": true,
    "editable": true
   },
   "outputs": [],
   "source": [
    "test_tone_up = MonoSound.from_file('data/test_sines/sweep_up.wav')\n",
    "msa = MultibandAnalysis(test_tone_up)\n",
    "msa.bands_split = get_split_freqs(4)\n",
    "mov = Movement(msa)"
   ]
  },
  {
   "cell_type": "code",
   "execution_count": 7,
   "metadata": {
    "collapsed": false,
    "deletable": true,
    "editable": true
   },
   "outputs": [
    {
     "data": {
      "text/html": [
       "<div>\n",
       "<table border=\"1\" class=\"dataframe\">\n",
       "  <thead>\n",
       "    <tr style=\"text-align: right;\">\n",
       "      <th></th>\n",
       "      <th>Beginning</th>\n",
       "      <th>End</th>\n",
       "    </tr>\n",
       "  </thead>\n",
       "  <tbody>\n",
       "    <tr>\n",
       "      <th>Band Centroid</th>\n",
       "      <td>1.707422</td>\n",
       "      <td>2.678060</td>\n",
       "    </tr>\n",
       "    <tr>\n",
       "      <th>Cumulative Peak Values</th>\n",
       "      <td>0.595505</td>\n",
       "      <td>0.315561</td>\n",
       "    </tr>\n",
       "  </tbody>\n",
       "</table>\n",
       "</div>"
      ],
      "text/plain": [
       "                        Beginning       End\n",
       "Band Centroid            1.707422  2.678060\n",
       "Cumulative Peak Values   0.595505  0.315561"
      ]
     },
     "execution_count": 7,
     "metadata": {},
     "output_type": "execute_result"
    }
   ],
   "source": [
    "mov.report"
   ]
  },
  {
   "cell_type": "code",
   "execution_count": 9,
   "metadata": {
    "collapsed": false,
    "deletable": true,
    "editable": true
   },
   "outputs": [
    {
     "data": {
      "image/png": "[encoded data removed]",
      "text/plain": [
       "<matplotlib.figure.Figure at 0x116464250>"
      ]
     },
     "metadata": {},
     "output_type": "display_data"
    }
   ],
   "source": [
    "MultibandPlot(msa).plot(['env', 'peaks', 'bpf'], sharey=True,\n",
    "                        figsize=(6,3), to_fig='1sinesweep.pdf')"
   ]
  },
  {
   "cell_type": "code",
   "execution_count": 2,
   "metadata": {
    "collapsed": false,
    "deletable": true,
    "editable": true
   },
   "outputs": [
    {
     "data": {
      "text/plain": [
       "[422.40460549701857, 1487.0136110377862, 4596.9331563680116]"
      ]
     },
     "execution_count": 2,
     "metadata": {},
     "output_type": "execute_result"
    }
   ],
   "source": [
    "get_split_freqs(4)"
   ]
  },
  {
   "cell_type": "code",
   "execution_count": 10,
   "metadata": {
    "collapsed": false,
    "deletable": true,
    "editable": true
   },
   "outputs": [
    {
     "data": {
      "text/plain": [
       "array([[  5.87256856e-03,   9.32067849e-05],\n",
       "       [  2.55046204e-01,   1.22558920e-02],\n",
       "       [  2.42026318e-01,   7.68003577e-02],\n",
       "       [  9.25596545e-02,   2.26412039e-01]])"
      ]
     },
     "execution_count": 10,
     "metadata": {},
     "output_type": "execute_result"
    }
   ],
   "source": [
    "mov.report_data"
   ]
  },
  {
   "cell_type": "code",
   "execution_count": null,
   "metadata": {
    "collapsed": true
   },
   "outputs": [],
   "source": []
  }
 ],
 "metadata": {
  "kernelspec": {
   "display_name": "Python 2",
   "language": "python",
   "name": "python2"
  },
  "language_info": {
   "codemirror_mode": {
    "name": "ipython",
    "version": 2
   },
   "file_extension": ".py",
   "mimetype": "text/x-python",
   "name": "python",
   "nbconvert_exporter": "python",
   "pygments_lexer": "ipython2",
   "version": "2.7.13"
  }
 },
 "nbformat": 4,
 "nbformat_minor": 0
}
