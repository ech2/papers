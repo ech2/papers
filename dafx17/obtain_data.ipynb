{
 "cells": [
  {
   "cell_type": "code",
   "execution_count": 2,
   "metadata": {
    "collapsed": true
   },
   "outputs": [],
   "source": [
    "import json\n",
    "import os\n",
    "import sys\n",
    "import time\n",
    "from itertools import combinations\n",
    "from subprocess import Popen\n",
    "\n",
    "import requests\n",
    "import numpy as np"
   ]
  },
  {
   "cell_type": "markdown",
   "metadata": {},
   "source": [
    "## Freesound search and download routines"
   ]
  },
  {
   "cell_type": "code",
   "execution_count": null,
   "metadata": {
    "collapsed": true
   },
   "outputs": [],
   "source": [
    "with open('token.json') as f:\n",
    "    # {\"oauth2_token\": \"token\", \"api_secret\": \"secret\"}\n",
    "    apikey = json.load(f)\n",
    "\n",
    "headers = {\n",
    "    'Authorization': 'Bearer ' + apikey['oauth2_token']\n",
    "}\n",
    "\n",
    "freesound_download_dir = 'data/freesound_whooshes'\n",
    "text_search_url = 'http://www.freesound.org/apiv2/search/text/'\n",
    "sound_download_url_tpl = 'https://www.freesound.org/apiv2/sounds/{}/download/'\n",
    "\n",
    "\n",
    "def search_tag(tag):\n",
    "    params = {\n",
    "        'filter': tag,\n",
    "        'token': apikey['api_secret']\n",
    "    }\n",
    "    sounds = []\n",
    "    try:\n",
    "        r = requests.get(text_search_url, params)\n",
    "        sounds.extend([s['id'] for s in r.json()['results']])\n",
    "        while r.json()['next'] is not None:\n",
    "            r = requests.get(r.json()['next'], {'token': params['token']})\n",
    "            sounds.extend([s['id'] for s in r.json()['results']])\n",
    "            time.sleep(0.5)\n",
    "    finally:\n",
    "        with open(freesound_download_dir + '/sounds.json', 'w') as f:\n",
    "            json.dump(sounds, f)\n",
    "\n",
    "\n",
    "def download_sound(sid):\n",
    "    r = requests.get(sound_download_url_tpl.format(sid), headers=headers)\n",
    "    r.raw.decode_content = True\n",
    "    filetype = r.headers['Content-Disposition'].split('.')[-1].replace('\"', '')\n",
    "    with open('{}/{}.{}'.format(freesound_download_dir, sid, filetype), 'wb') as f:\n",
    "        f.write(r.content)"
   ]
  },
  {
   "cell_type": "markdown",
   "metadata": {},
   "source": [
    "### Download sounds from a list"
   ]
  },
  {
   "cell_type": "code",
   "execution_count": null,
   "metadata": {
    "collapsed": true
   },
   "outputs": [],
   "source": [
    "with open('data/freesound_whoosh_list.txt', 'r') as f:\n",
    "        sids = [int(x) for x in f.readlines()]\n",
    "        for i, s in enumerate(sids):\n",
    "            print('{}\\t{}'.format(i, s))\n",
    "            download_sound(s)\n",
    "            time.sleep(1)"
   ]
  },
  {
   "cell_type": "markdown",
   "metadata": {},
   "source": [
    "## Generate sine tones"
   ]
  },
  {
   "cell_type": "code",
   "execution_count": null,
   "metadata": {
    "collapsed": true
   },
   "outputs": [],
   "source": [
    "! csound gen_test_tones.csd --omacro:TEST_TYPE=1 -f --output=data/test_sines/sweep_down.wav"
   ]
  },
  {
   "cell_type": "code",
   "execution_count": null,
   "metadata": {
    "collapsed": true
   },
   "outputs": [],
   "source": [
    "! csound gen_test_tones.csd --omacro:TEST_TYPE=2 -f --output=data/test_sines/sweep_up.wav"
   ]
  },
  {
   "cell_type": "code",
   "execution_count": null,
   "metadata": {
    "collapsed": true
   },
   "outputs": [],
   "source": [
    "! csound gen_test_tones.csd --omacro:TEST_TYPE=3 -f --output=data/test_sines/sweep_both.wav"
   ]
  },
  {
   "cell_type": "markdown",
   "metadata": {},
   "source": [
    "## Generate noises"
   ]
  },
  {
   "cell_type": "code",
   "execution_count": 4,
   "metadata": {},
   "outputs": [],
   "source": [
    "def between(x1, x2):\n",
    "    return int((x2 - x1) * 0.5) + x1\n",
    "\n",
    "\n",
    "def filter_freq_pairs(tupl):\n",
    "    (f1l, f1h), (f2l, f2h) = tupl\n",
    "    c1 = between(f1l, f1h)\n",
    "    c2 = between(f2l, f2h)\n",
    "    return abs(c1 - c2) < 5000\n",
    "\n",
    "\n",
    "def gen_freq_list():\n",
    "    return [(int(f1), int(f2))\n",
    "            for (f1, f2)\n",
    "            in combinations(np.linspace(0, 20000, 100), 2)\n",
    "            if f2 > f1]\n",
    "\n",
    "\n",
    "def cmp_as_string(x, y):\n",
    "    if x > y:\n",
    "        return 'down'\n",
    "    elif x < y:\n",
    "        return 'up'\n",
    "    else:\n",
    "        return 'still'"
   ]
  },
  {
   "cell_type": "code",
   "execution_count": 5,
   "metadata": {},
   "outputs": [],
   "source": [
    "freqs = gen_freq_list()\n",
    "pair_freqs = filter(filter_freq_pairs,\n",
    "                    combinations(freqs, 2))[::200]"
   ]
  },
  {
   "cell_type": "code",
   "execution_count": 50,
   "metadata": {},
   "outputs": [],
   "source": [
    "total_combs = len(pair_freqs)"
   ]
  },
  {
   "cell_type": "code",
   "execution_count": 113,
   "metadata": {},
   "outputs": [],
   "source": [
    "noises_dir = 'data/test_noises/'\n",
    "cmd_template = 'csound gen_noises.csd --omacro:cf1={} --omacro:bw1={} ' \\\n",
    "               '--omacro:cf2={} --omacro:bw2={} -f --output={}'\n",
    "\n",
    "def render_file(low1, high1, low2, high2):\n",
    "    bw1 = high1 - low1\n",
    "    cf1 = low1 + int(bw1 * 0.5)\n",
    "    bw2 = high2 - low2\n",
    "    cf2 = low2 + int(bw2 * 0.5)\n",
    "    wav_name = '{}-{}--{}-{}--{}.wav'.format(cf1, bw1, cf2, bw2,\n",
    "                                             cmp_as_string(cf1, cf2))\n",
    "    if os.path.isfile(noises_dir + wav_name):\n",
    "        return Popen('false')\n",
    "    cmd = cmd_template.format(cf1, bw1, cf2, bw2, noises_dir + wav_name)\n",
    "    return Popen(cmd.split(' '))\n",
    "\n",
    "\n",
    "def run_parallel(pair_freq_list, num_threads=4):\n",
    "    procs = set()\n",
    "    count = 0\n",
    "    for (low1, high1), (low2, high2) in pair_freq_list:\n",
    "        count += 1\n",
    "        sys.stdout.write('{} / {}\\r'.format(count, total_combs))\n",
    "        procs.add(render_file(low1, high1, low2, high2))\n",
    "        if len(procs) > num_threads:\n",
    "            os.wait()  # won't work on Windows\n",
    "            procs -= {p for p in procs if p.poll() is not None}"
   ]
  },
  {
   "cell_type": "code",
   "execution_count": 114,
   "metadata": {},
   "outputs": [
    {
     "name": "stdout",
     "output_type": "stream",
     "text": [
      "36533 / 36533\r"
     ]
    }
   ],
   "source": [
    "run_parallel(pair_freqs)"
   ]
  },
  {
   "cell_type": "code",
   "execution_count": null,
   "metadata": {
    "collapsed": true
   },
   "outputs": [],
   "source": [
    ""
   ]
  }
 ],
 "metadata": {
  "kernelspec": {
   "display_name": "Python 2",
   "language": "python",
   "name": "python2"
  },
  "language_info": {
   "codemirror_mode": {
    "name": "ipython",
    "version": 2.0
   },
   "file_extension": ".py",
   "mimetype": "text/x-python",
   "name": "python",
   "nbconvert_exporter": "python",
   "pygments_lexer": "ipython2",
   "version": "2.7.13"
  }
 },
 "nbformat": 4,
 "nbformat_minor": 0
}