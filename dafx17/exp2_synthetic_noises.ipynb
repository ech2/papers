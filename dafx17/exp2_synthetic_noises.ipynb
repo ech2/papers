{
 "cells": [
  {
   "cell_type": "code",
   "execution_count": 2,
   "metadata": {
    "collapsed": true
   },
   "outputs": [],
   "source": [
    "import sys\n",
    "import json\n",
    "from glob import glob\n",
    "from os.path import basename\n",
    "from multiprocessing import Queue, Pool, Manager\n",
    "from functools import partial\n",
    "from imp import reload\n",
    "\n",
    "import numpy as np\n",
    "import pandas as pd\n",
    "import matplotlib\n",
    "import matplotlib.pyplot as plt\n",
    "import seaborn as sns\n",
    "from scipy.stats import pearsonr\n",
    "from statsmodels.stats.weightstats import CompareMeans, DescrStatsW\n",
    "from sklearn.metrics import mean_squared_error as ms_err\n",
    "\n",
    "import framework ; framework = reload(framework) ; from framework import *\n",
    "import dsp ; dsp = reload(dsp) ; from dsp import *\n",
    "import plotting ; plotting = reload(plotting) ; from plotting import *\n",
    "%matplotlib inline"
   ]
  },
  {
   "cell_type": "markdown",
   "metadata": {},
   "source": [
    "## Generate DataFrames from file names"
   ]
  },
  {
   "cell_type": "code",
   "execution_count": 3,
   "metadata": {
    "collapsed": true
   },
   "outputs": [],
   "source": [
    "dir_noises = 'data/test_noises/'\n",
    "\n",
    "def parse_cfbw(filename):\n",
    "    beg, end, d = filename.replace('.wav', '').split('--')\n",
    "    cf1, bw1 = [int(x) for x in beg.split('-')]\n",
    "    cf2, bw2 = [int(x) for x in end.split('-')]\n",
    "    return [cf1, bw1, cf2, bw2, d]\n",
    "\n",
    "def make_df_from_filenames():\n",
    "    rows = []\n",
    "    for w in glob(dir_noises + '*.wav'):\n",
    "        bn = basename(w)\n",
    "        rows.append([bn] + parse_cfbw(bn))\n",
    "    df = pd.DataFrame(rows, columns=['fn', 'cf1', 'bw1', 'cf2', 'bw2', 'dir'])\n",
    "    df_files = df.iloc[:, 0:1]\n",
    "    df_data = df.iloc[:, 1:]\n",
    "    return df_files, df_data"
   ]
  },
  {
   "cell_type": "code",
   "execution_count": 4,
   "metadata": {
    "collapsed": true
   },
   "outputs": [],
   "source": [
    "noise_files, noise_data_orig = make_df_from_filenames()"
   ]
  },
  {
   "cell_type": "markdown",
   "metadata": {},
   "source": [
    "## Evaluate the method using noises as input"
   ]
  },
  {
   "cell_type": "code",
   "execution_count": 5,
   "metadata": {
    "collapsed": true
   },
   "outputs": [],
   "source": [
    "def get_split_freqs_glitch_fix(num_bands):  # FIXME glitch in low-frequency bands\n",
    "    if num_bands > 12:  \n",
    "        return get_split_freqs(num_bands)[2:], num_bands - 2\n",
    "    else:\n",
    "        return get_split_freqs(num_bands), num_bands\n",
    "\n",
    "def cmp_to_str(x1, x2):\n",
    "    if x1 < x2:\n",
    "        return 'up'\n",
    "    elif x1 > x2:\n",
    "        return 'down'\n",
    "    else:\n",
    "        return 'still'\n",
    "    \n",
    "\n",
    "def eval_worker(q, num_bands_list, fn):\n",
    "    rows = []\n",
    "    for num_bands in num_bands_list:\n",
    "        msa = MultibandAnalysis(MonoSound.from_file(dir_noises + fn))\n",
    "        msa.bands_split, nbands = get_split_freqs_glitch_fix(num_bands)  # FIXME\n",
    "        m = Movement(msa)\n",
    "        row = [fn, int(nbands)]\n",
    "        row += list(m.report.loc['Band Centroid', :])\n",
    "        row += list(m.report.loc['Cumulative Peak Values', :])\n",
    "        row += [json.dumps([ms_err(b.env, b.render_bpf()) for b in msa.bands])]\n",
    "        row += [json.dumps(m.report_data.tolist())]\n",
    "        rows.append(row)\n",
    "    q.put(rows, True)\n",
    "\n",
    "    \n",
    "def method_eval(num_threads=8, num_bands_list=[2, 4, 6, 8, 10, 12, 16, 18, 20, 22]):\n",
    "    files_total = len(noise_files)\n",
    "    columns=['fn', 'numbands', 'cbeg', 'cend', 'cpvbeg', 'cpvend',\n",
    "             'mse_raw', 'movement_raw']\n",
    "    pool = Pool(num_threads)\n",
    "    res_q = Manager().Queue(maxsize=num_threads)\n",
    "    \n",
    "#     s1 = set(noise_files['fn'])\n",
    "#     s2 = set(pd.read_csv('noise_data_calc-bkp.csv', sep=';')['fn'])\n",
    "#     files = list(s1.symmetric_difference(s2))\n",
    "#     files_total = len(files)\n",
    "#     pool.map_async(partial(eval_worker, res_q, num_bands_list), files)\n",
    "\n",
    "    pool.map_async(partial(eval_worker, res_q, num_bands_list), noise_files['fn'])\n",
    "    count = 0\n",
    "    try:\n",
    "        with open('noise_data_calc.csv', 'w') as f:\n",
    "            f.write(';'.join(columns))\n",
    "            f.write('\\n')\n",
    "            while count < files_total: \n",
    "                for res in res_q.get(True, 30):\n",
    "                    f.write(';'.join([str(c) for c in res]))\n",
    "                    f.write('\\n')\n",
    "                count += 1\n",
    "                sys.stdout.write('{} / {}\\r'.format(count, files_total))\n",
    "                sys.stdout.flush()\n",
    "    finally:\n",
    "        print('\\nDone')"
   ]
  },
  {
   "cell_type": "code",
   "execution_count": 6,
   "metadata": {
    "collapsed": true
   },
   "outputs": [],
   "source": [
    "# method_eval()"
   ]
  },
  {
   "cell_type": "code",
   "execution_count": 7,
   "metadata": {
    "collapsed": true
   },
   "outputs": [],
   "source": [
    "def import_data(csv_file='noise_data_calc.csv', sep=';'):\n",
    "    df = pd.read_csv(csv_file, sep=sep)\n",
    "    string_enc = df['fn'].str.replace('.wav', '').str.split('--')\n",
    "    df['cabsdiff'] = (df['cend'] - df['cbeg']).abs()\n",
    "    df['cf1'] = string_enc.str.get(0).str.split('-').str.get(0).apply(pd.to_numeric)\n",
    "    df['bw1'] = string_enc.str.get(0).str.split('-').str.get(1).apply(pd.to_numeric)\n",
    "    df['cf2'] = string_enc.str.get(1).str.split('-').str.get(0).apply(pd.to_numeric)\n",
    "    df['bw2'] = string_enc.str.get(1).str.split('-').str.get(1).apply(pd.to_numeric)\n",
    "    df['dirorig'] = string_enc.str.get(2)\n",
    "    df['dirpred'] = df.apply(lambda x: cmp_to_str(x['cbeg'], x['cend']), axis=1)\n",
    "    df['correct'] = df['dirorig'] == df['dirpred']\n",
    "    df['cfabsdiff'] = (df.cf1 - df.cf2).abs()\n",
    "    df['bwabsdiff'] = (df.bw1 - df.bw2).abs()\n",
    "    df['cpvabsdiff'] = (df.cpvbeg - df.cpvend).abs()\n",
    "    df['rsmse'] = [np.sqrt(np.sum(json.loads(rse))) for rse in df['mse_raw']]\n",
    "\n",
    "    return df"
   ]
  },
  {
   "cell_type": "markdown",
   "metadata": {},
   "source": [
    "## Read data"
   ]
  },
  {
   "cell_type": "code",
   "execution_count": 8,
   "metadata": {
    "collapsed": true
   },
   "outputs": [],
   "source": [
    "# noise_data_calc = import_data()\n",
    "# noise_data_calc.to_csv('noise_data_calc-cached.csv', sep=';')\n",
    "noise_data_calc = pd.read_csv('noise_data_calc-cached.csv', sep=';', index_col=0)\n",
    "# noise_data_calc = noise_data_calc.query('dirorig != \"still\"')"
   ]
  },
  {
   "cell_type": "code",
   "execution_count": 12,
   "metadata": {
    "collapsed": true
   },
   "outputs": [],
   "source": [
    "from sklearn.metrics import coverage_error\n"
   ]
  },
  {
   "cell_type": "code",
   "execution_count": 9,
   "metadata": {},
   "outputs": [
    {
     "data": {
      "text/html": [
       "<div>\n",
       "<style>\n",
       "    .dataframe thead tr:only-child th {\n",
       "        text-align: right;\n",
       "    }\n",
       "\n",
       "    .dataframe thead th {\n",
       "        text-align: left;\n",
       "    }\n",
       "\n",
       "    .dataframe tbody tr th {\n",
       "        vertical-align: top;\n",
       "    }\n",
       "</style>\n",
       "<table border=\"1\" class=\"dataframe\">\n",
       "  <thead>\n",
       "    <tr style=\"text-align: right;\">\n",
       "      <th></th>\n",
       "      <th>numbands</th>\n",
       "      <th>cbeg</th>\n",
       "      <th>cend</th>\n",
       "      <th>cpvbeg</th>\n",
       "      <th>cpvend</th>\n",
       "      <th>cabsdiff</th>\n",
       "      <th>cf1</th>\n",
       "      <th>bw1</th>\n",
       "      <th>cf2</th>\n",
       "      <th>bw2</th>\n",
       "      <th>cfabsdiff</th>\n",
       "      <th>bwabsdiff</th>\n",
       "      <th>cpvabsdiff</th>\n",
       "      <th>rsmse</th>\n",
       "    </tr>\n",
       "  </thead>\n",
       "  <tbody>\n",
       "    <tr>\n",
       "      <th>count</th>\n",
       "      <td>365330.000000</td>\n",
       "      <td>365330.000000</td>\n",
       "      <td>365330.000000</td>\n",
       "      <td>365330.000000</td>\n",
       "      <td>365330.000000</td>\n",
       "      <td>365330.000000</td>\n",
       "      <td>365330.000000</td>\n",
       "      <td>365330.000000</td>\n",
       "      <td>365330.000000</td>\n",
       "      <td>365330.000000</td>\n",
       "      <td>365330.000000</td>\n",
       "      <td>365330.000000</td>\n",
       "      <td>3.653300e+05</td>\n",
       "      <td>365330.000000</td>\n",
       "    </tr>\n",
       "    <tr>\n",
       "      <th>mean</th>\n",
       "      <td>11.000000</td>\n",
       "      <td>8.360949</td>\n",
       "      <td>8.959880</td>\n",
       "      <td>0.636451</td>\n",
       "      <td>0.322889</td>\n",
       "      <td>0.674405</td>\n",
       "      <td>9251.421099</td>\n",
       "      <td>9385.327211</td>\n",
       "      <td>10739.874388</td>\n",
       "      <td>5455.985794</td>\n",
       "      <td>2350.874497</td>\n",
       "      <td>5326.196973</td>\n",
       "      <td>3.555476e-01</td>\n",
       "      <td>0.024800</td>\n",
       "    </tr>\n",
       "    <tr>\n",
       "      <th>std</th>\n",
       "      <td>5.744571</td>\n",
       "      <td>4.743284</td>\n",
       "      <td>5.066186</td>\n",
       "      <td>0.356822</td>\n",
       "      <td>0.201362</td>\n",
       "      <td>0.648599</td>\n",
       "      <td>3130.563647</td>\n",
       "      <td>4830.495430</td>\n",
       "      <td>3473.152723</td>\n",
       "      <td>3981.714117</td>\n",
       "      <td>1420.052374</td>\n",
       "      <td>3946.324924</td>\n",
       "      <td>2.772882e-01</td>\n",
       "      <td>0.009208</td>\n",
       "    </tr>\n",
       "    <tr>\n",
       "      <th>min</th>\n",
       "      <td>2.000000</td>\n",
       "      <td>0.017884</td>\n",
       "      <td>0.068729</td>\n",
       "      <td>0.004467</td>\n",
       "      <td>0.001510</td>\n",
       "      <td>0.000000</td>\n",
       "      <td>101.000000</td>\n",
       "      <td>202.000000</td>\n",
       "      <td>202.000000</td>\n",
       "      <td>202.000000</td>\n",
       "      <td>0.000000</td>\n",
       "      <td>0.000000</td>\n",
       "      <td>1.866010e-07</td>\n",
       "      <td>0.007419</td>\n",
       "    </tr>\n",
       "    <tr>\n",
       "      <th>25%</th>\n",
       "      <td>6.000000</td>\n",
       "      <td>4.350291</td>\n",
       "      <td>4.724189</td>\n",
       "      <td>0.358391</td>\n",
       "      <td>0.178634</td>\n",
       "      <td>0.170614</td>\n",
       "      <td>7171.000000</td>\n",
       "      <td>5656.000000</td>\n",
       "      <td>8282.000000</td>\n",
       "      <td>2222.000000</td>\n",
       "      <td>1111.000000</td>\n",
       "      <td>2021.000000</td>\n",
       "      <td>1.397293e-01</td>\n",
       "      <td>0.017574</td>\n",
       "    </tr>\n",
       "    <tr>\n",
       "      <th>50%</th>\n",
       "      <td>11.000000</td>\n",
       "      <td>8.373404</td>\n",
       "      <td>8.908714</td>\n",
       "      <td>0.574599</td>\n",
       "      <td>0.276298</td>\n",
       "      <td>0.496205</td>\n",
       "      <td>9393.000000</td>\n",
       "      <td>9495.000000</td>\n",
       "      <td>10807.000000</td>\n",
       "      <td>4647.000000</td>\n",
       "      <td>2323.000000</td>\n",
       "      <td>4445.000000</td>\n",
       "      <td>2.921617e-01</td>\n",
       "      <td>0.023012</td>\n",
       "    </tr>\n",
       "    <tr>\n",
       "      <th>75%</th>\n",
       "      <td>16.000000</td>\n",
       "      <td>12.226990</td>\n",
       "      <td>13.119704</td>\n",
       "      <td>0.861516</td>\n",
       "      <td>0.423793</td>\n",
       "      <td>0.986970</td>\n",
       "      <td>11312.000000</td>\n",
       "      <td>13131.000000</td>\n",
       "      <td>13231.000000</td>\n",
       "      <td>8080.000000</td>\n",
       "      <td>3535.000000</td>\n",
       "      <td>7878.000000</td>\n",
       "      <td>5.104667e-01</td>\n",
       "      <td>0.030555</td>\n",
       "    </tr>\n",
       "    <tr>\n",
       "      <th>max</th>\n",
       "      <td>20.000000</td>\n",
       "      <td>18.990681</td>\n",
       "      <td>18.993211</td>\n",
       "      <td>2.105013</td>\n",
       "      <td>1.693726</td>\n",
       "      <td>5.750067</td>\n",
       "      <td>18989.000000</td>\n",
       "      <td>20000.000000</td>\n",
       "      <td>19898.000000</td>\n",
       "      <td>19595.000000</td>\n",
       "      <td>4950.000000</td>\n",
       "      <td>19596.000000</td>\n",
       "      <td>1.762928e+00</td>\n",
       "      <td>0.074658</td>\n",
       "    </tr>\n",
       "  </tbody>\n",
       "</table>\n",
       "</div>"
      ],
      "text/plain": [
       "            numbands           cbeg           cend         cpvbeg  \\\n",
       "count  365330.000000  365330.000000  365330.000000  365330.000000   \n",
       "mean       11.000000       8.360949       8.959880       0.636451   \n",
       "std         5.744571       4.743284       5.066186       0.356822   \n",
       "min         2.000000       0.017884       0.068729       0.004467   \n",
       "25%         6.000000       4.350291       4.724189       0.358391   \n",
       "50%        11.000000       8.373404       8.908714       0.574599   \n",
       "75%        16.000000      12.226990      13.119704       0.861516   \n",
       "max        20.000000      18.990681      18.993211       2.105013   \n",
       "\n",
       "              cpvend       cabsdiff            cf1            bw1  \\\n",
       "count  365330.000000  365330.000000  365330.000000  365330.000000   \n",
       "mean        0.322889       0.674405    9251.421099    9385.327211   \n",
       "std         0.201362       0.648599    3130.563647    4830.495430   \n",
       "min         0.001510       0.000000     101.000000     202.000000   \n",
       "25%         0.178634       0.170614    7171.000000    5656.000000   \n",
       "50%         0.276298       0.496205    9393.000000    9495.000000   \n",
       "75%         0.423793       0.986970   11312.000000   13131.000000   \n",
       "max         1.693726       5.750067   18989.000000   20000.000000   \n",
       "\n",
       "                 cf2            bw2      cfabsdiff      bwabsdiff  \\\n",
       "count  365330.000000  365330.000000  365330.000000  365330.000000   \n",
       "mean    10739.874388    5455.985794    2350.874497    5326.196973   \n",
       "std      3473.152723    3981.714117    1420.052374    3946.324924   \n",
       "min       202.000000     202.000000       0.000000       0.000000   \n",
       "25%      8282.000000    2222.000000    1111.000000    2021.000000   \n",
       "50%     10807.000000    4647.000000    2323.000000    4445.000000   \n",
       "75%     13231.000000    8080.000000    3535.000000    7878.000000   \n",
       "max     19898.000000   19595.000000    4950.000000   19596.000000   \n",
       "\n",
       "         cpvabsdiff          rsmse  \n",
       "count  3.653300e+05  365330.000000  \n",
       "mean   3.555476e-01       0.024800  \n",
       "std    2.772882e-01       0.009208  \n",
       "min    1.866010e-07       0.007419  \n",
       "25%    1.397293e-01       0.017574  \n",
       "50%    2.921617e-01       0.023012  \n",
       "75%    5.104667e-01       0.030555  \n",
       "max    1.762928e+00       0.074658  "
      ]
     },
     "execution_count": 9,
     "metadata": {},
     "output_type": "execute_result"
    }
   ],
   "source": [
    "noise_data_calc.describe()"
   ]
  },
  {
   "cell_type": "markdown",
   "metadata": {},
   "source": [
    "## Test sampling distribution of a mean C_diff"
   ]
  },
  {
   "cell_type": "code",
   "execution_count": 14,
   "metadata": {
    "collapsed": true
   },
   "outputs": [],
   "source": [
    "pred_correct = noise_data_calc.query('correct == True')\n",
    "pred_error = noise_data_calc.query('correct == False')\n",
    "pred_correct_cdiff = pred_correct['cend'] - pred_correct['cbeg']\n",
    "pred_error_cdiff = pred_error['cend'] - pred_error['cbeg']"
   ]
  },
  {
   "cell_type": "code",
   "execution_count": 15,
   "metadata": {},
   "outputs": [
    {
     "data": {
      "text/plain": [
       "'Correct predictions: 279856, wrong predictions: 85474 / 77% correct'"
      ]
     },
     "execution_count": 15,
     "metadata": {},
     "output_type": "execute_result"
    }
   ],
   "source": [
    "'Correct predictions: {}, wrong predictions: {} / {}% correct'.format(\n",
    "    len(pred_correct), len(pred_error),\n",
    "    round(len(pred_correct) / float(len(noise_data_calc)) * 100))"
   ]
  },
  {
   "cell_type": "code",
   "execution_count": null,
   "metadata": {},
   "outputs": [
    {
     "data": {
      "text/plain": [
       "<matplotlib.axes._subplots.AxesSubplot at 0x7f8b7905a7b8>"
      ]
     },
     "execution_count": 29,
     "metadata": {},
     "output_type": "execute_result"
    }
   ],
   "source": [
    "noise_data_calc.query('correct == True').plot()\n",
    "noise_data_calc.query('correct == True').plot()"
   ]
  },
  {
   "cell_type": "code",
   "execution_count": 20,
   "metadata": {},
   "outputs": [
    {
     "data": {
      "text/plain": [
       "<matplotlib.axes._subplots.AxesSubplot at 0x7f8b77c4a550>"
      ]
     },
     "execution_count": 20,
     "metadata": {},
     "output_type": "execute_result"
    },
    {
     "data": {
      "image/png": "[encoded data removed]",
      "text/plain": [
       "<matplotlib.figure.Figure at 0x7f8b77c57828>"
      ]
     },
     "metadata": {},
     "output_type": "display_data"
    }
   ],
   "source": [
    "noise_data_calc.cabsdiff.plot.hist(bins=100)"
   ]
  },
  {
   "cell_type": "code",
   "execution_count": 11,
   "metadata": {},
   "outputs": [
    {
     "ename": "TypeError",
     "evalue": "unsupported operand type(s) for -: 'str' and 'str'",
     "output_type": "error",
     "traceback": [
      "\u001b[0;31m---------------------------------------------------------------------------\u001b[0m",
      "\u001b[0;31mTypeError\u001b[0m                                 Traceback (most recent call last)",
      "\u001b[0;32m<ipython-input-11-1269a398ac2c>\u001b[0m in \u001b[0;36m<module>\u001b[0;34m()\u001b[0m\n\u001b[1;32m      1\u001b[0m \u001b[0;32mfrom\u001b[0m \u001b[0msklearn\u001b[0m\u001b[0;34m.\u001b[0m\u001b[0mmetrics\u001b[0m \u001b[0;32mimport\u001b[0m \u001b[0mf1_score\u001b[0m\u001b[0;34m,\u001b[0m \u001b[0mroc_curve\u001b[0m\u001b[0;34m\u001b[0m\u001b[0m\n\u001b[1;32m      2\u001b[0m \u001b[0;34m\u001b[0m\u001b[0m\n\u001b[0;32m----> 3\u001b[0;31m \u001b[0mroc_curve\u001b[0m\u001b[0;34m(\u001b[0m\u001b[0mnoise_data_calc\u001b[0m\u001b[0;34m.\u001b[0m\u001b[0mdirorig\u001b[0m\u001b[0;34m,\u001b[0m \u001b[0mnoise_data_calc\u001b[0m\u001b[0;34m.\u001b[0m\u001b[0mdirpred\u001b[0m\u001b[0;34m,\u001b[0m \u001b[0;34m'down'\u001b[0m\u001b[0;34m)\u001b[0m\u001b[0;34m\u001b[0m\u001b[0m\n\u001b[0m",
      "\u001b[0;32m/usr/lib/python3.6/site-packages/sklearn/metrics/ranking.py\u001b[0m in \u001b[0;36mroc_curve\u001b[0;34m(y_true, y_score, pos_label, sample_weight, drop_intermediate)\u001b[0m\n\u001b[1;32m    503\u001b[0m     \"\"\"\n\u001b[1;32m    504\u001b[0m     fps, tps, thresholds = _binary_clf_curve(\n\u001b[0;32m--> 505\u001b[0;31m         y_true, y_score, pos_label=pos_label, sample_weight=sample_weight)\n\u001b[0m\u001b[1;32m    506\u001b[0m \u001b[0;34m\u001b[0m\u001b[0m\n\u001b[1;32m    507\u001b[0m     \u001b[0;31m# Attempt to drop thresholds corresponding to points in between and\u001b[0m\u001b[0;34m\u001b[0m\u001b[0;34m\u001b[0m\u001b[0m\n",
      "\u001b[0;32m/usr/lib/python3.6/site-packages/sklearn/metrics/ranking.py\u001b[0m in \u001b[0;36m_binary_clf_curve\u001b[0;34m(y_true, y_score, pos_label, sample_weight)\u001b[0m\n\u001b[1;32m    331\u001b[0m     \u001b[0;31m# the indices associated with the distinct values. We also\u001b[0m\u001b[0;34m\u001b[0m\u001b[0;34m\u001b[0m\u001b[0m\n\u001b[1;32m    332\u001b[0m     \u001b[0;31m# concatenate a value for the end of the curve.\u001b[0m\u001b[0;34m\u001b[0m\u001b[0;34m\u001b[0m\u001b[0m\n\u001b[0;32m--> 333\u001b[0;31m     \u001b[0mdistinct_value_indices\u001b[0m \u001b[0;34m=\u001b[0m \u001b[0mnp\u001b[0m\u001b[0;34m.\u001b[0m\u001b[0mwhere\u001b[0m\u001b[0;34m(\u001b[0m\u001b[0mnp\u001b[0m\u001b[0;34m.\u001b[0m\u001b[0mdiff\u001b[0m\u001b[0;34m(\u001b[0m\u001b[0my_score\u001b[0m\u001b[0;34m)\u001b[0m\u001b[0;34m)\u001b[0m\u001b[0;34m[\u001b[0m\u001b[0;36m0\u001b[0m\u001b[0;34m]\u001b[0m\u001b[0;34m\u001b[0m\u001b[0m\n\u001b[0m\u001b[1;32m    334\u001b[0m     \u001b[0mthreshold_idxs\u001b[0m \u001b[0;34m=\u001b[0m \u001b[0mnp\u001b[0m\u001b[0;34m.\u001b[0m\u001b[0mr_\u001b[0m\u001b[0;34m[\u001b[0m\u001b[0mdistinct_value_indices\u001b[0m\u001b[0;34m,\u001b[0m \u001b[0my_true\u001b[0m\u001b[0;34m.\u001b[0m\u001b[0msize\u001b[0m \u001b[0;34m-\u001b[0m \u001b[0;36m1\u001b[0m\u001b[0;34m]\u001b[0m\u001b[0;34m\u001b[0m\u001b[0m\n\u001b[1;32m    335\u001b[0m \u001b[0;34m\u001b[0m\u001b[0m\n",
      "\u001b[0;32m/usr/lib/python3.6/site-packages/numpy/lib/function_base.py\u001b[0m in \u001b[0;36mdiff\u001b[0;34m(a, n, axis)\u001b[0m\n\u001b[1;32m   1766\u001b[0m         \u001b[0;32mreturn\u001b[0m \u001b[0mdiff\u001b[0m\u001b[0;34m(\u001b[0m\u001b[0ma\u001b[0m\u001b[0;34m[\u001b[0m\u001b[0mslice1\u001b[0m\u001b[0;34m]\u001b[0m\u001b[0;34m-\u001b[0m\u001b[0ma\u001b[0m\u001b[0;34m[\u001b[0m\u001b[0mslice2\u001b[0m\u001b[0;34m]\u001b[0m\u001b[0;34m,\u001b[0m \u001b[0mn\u001b[0m\u001b[0;34m-\u001b[0m\u001b[0;36m1\u001b[0m\u001b[0;34m,\u001b[0m \u001b[0maxis\u001b[0m\u001b[0;34m=\u001b[0m\u001b[0maxis\u001b[0m\u001b[0;34m)\u001b[0m\u001b[0;34m\u001b[0m\u001b[0m\n\u001b[1;32m   1767\u001b[0m     \u001b[0;32melse\u001b[0m\u001b[0;34m:\u001b[0m\u001b[0;34m\u001b[0m\u001b[0m\n\u001b[0;32m-> 1768\u001b[0;31m         \u001b[0;32mreturn\u001b[0m \u001b[0ma\u001b[0m\u001b[0;34m[\u001b[0m\u001b[0mslice1\u001b[0m\u001b[0;34m]\u001b[0m\u001b[0;34m-\u001b[0m\u001b[0ma\u001b[0m\u001b[0;34m[\u001b[0m\u001b[0mslice2\u001b[0m\u001b[0;34m]\u001b[0m\u001b[0;34m\u001b[0m\u001b[0m\n\u001b[0m\u001b[1;32m   1769\u001b[0m \u001b[0;34m\u001b[0m\u001b[0m\n\u001b[1;32m   1770\u001b[0m \u001b[0;34m\u001b[0m\u001b[0m\n",
      "\u001b[0;31mTypeError\u001b[0m: unsupported operand type(s) for -: 'str' and 'str'"
     ]
    }
   ],
   "source": [
    "from sklearn.metrics import f1_score, roc_curve\n",
    "\n",
    "roc_curve(noise_data_calc.dirorig, noise_data_calc.dirpred, 'down')"
   ]
  },
  {
   "cell_type": "code",
   "execution_count": 25,
   "metadata": {},
   "outputs": [
    {
     "data": {
      "text/plain": [
       "0.76603618646155536"
      ]
     },
     "execution_count": 25,
     "metadata": {},
     "output_type": "execute_result"
    }
   ],
   "source": [
    "f1_score(noise_data_calc.dirorig, noise_data_calc.dirpred, labels=['up', 'down', 'still'], average='micro')"
   ]
  },
  {
   "cell_type": "code",
   "execution_count": 28,
   "metadata": {},
   "outputs": [
    {
     "data": {
      "text/plain": [
       "0.8613468019227809"
      ]
     },
     "execution_count": 28,
     "metadata": {},
     "output_type": "execute_result"
    }
   ],
   "source": [
    "f1_score(tmp.dirorig, tmp.dirpred, labels=['up', 'down', 'still'], average='micro')"
   ]
  },
  {
   "cell_type": "code",
   "execution_count": 16,
   "metadata": {},
   "outputs": [
    {
     "data": {
      "text/plain": [
       "<matplotlib.axes._subplots.AxesSubplot at 0x7f8b99cbfe10>"
      ]
     },
     "execution_count": 16,
     "metadata": {},
     "output_type": "execute_result"
    },
    {
     "data": {
      "image/png": "[encoded data removed]",
      "text/plain": [
       "<matplotlib.figure.Figure at 0x7f8b8216ac88>"
      ]
     },
     "metadata": {},
     "output_type": "display_data"
    }
   ],
   "source": [
    "sns.heatmap(noise_data_calc.corr())"
   ]
  },
  {
   "cell_type": "code",
   "execution_count": 17,
   "metadata": {
    "collapsed": true
   },
   "outputs": [],
   "source": [
    "def calc_sm(x, sample_size=20, iters=15000):\n",
    "    return pd.Series([x.abs().sample(sample_size).mean() for _ in range(iters)])"
   ]
  },
  {
   "cell_type": "code",
   "execution_count": 18,
   "metadata": {
    "collapsed": true
   },
   "outputs": [],
   "source": [
    "c_correct_sm = calc_sm(pred_correct_cdiff)\n",
    "c_error_sm = calc_sm(pred_error_cdiff)"
   ]
  },
  {
   "cell_type": "code",
   "execution_count": 19,
   "metadata": {},
   "outputs": [
    {
     "ename": "AttributeError",
     "evalue": "'AxesSubplot' object has no attribute 'savefig'",
     "output_type": "error",
     "traceback": [
      "\u001b[0;31m---------------------------------------------------------------------------\u001b[0m",
      "\u001b[0;31mAttributeError\u001b[0m                            Traceback (most recent call last)",
      "\u001b[0;32m<ipython-input-19-c656bba4c316>\u001b[0m in \u001b[0;36m<module>\u001b[0;34m()\u001b[0m\n\u001b[1;32m      9\u001b[0m \u001b[0max1\u001b[0m\u001b[0;34m.\u001b[0m\u001b[0mset_ylabel\u001b[0m\u001b[0;34m(\u001b[0m\u001b[0;34m'Frequency'\u001b[0m\u001b[0;34m)\u001b[0m\u001b[0;34m\u001b[0m\u001b[0m\n\u001b[1;32m     10\u001b[0m \u001b[0max1\u001b[0m\u001b[0;34m.\u001b[0m\u001b[0mlegend\u001b[0m\u001b[0;34m(\u001b[0m\u001b[0;34m[\u001b[0m\u001b[0;34m'Correct prediction'\u001b[0m\u001b[0;34m,\u001b[0m \u001b[0;34m'Incorrect prediction'\u001b[0m\u001b[0;34m]\u001b[0m\u001b[0;34m)\u001b[0m\u001b[0;34m\u001b[0m\u001b[0m\n\u001b[0;32m---> 11\u001b[0;31m \u001b[0max1\u001b[0m\u001b[0;34m.\u001b[0m\u001b[0msavefig\u001b[0m\u001b[0;34m(\u001b[0m\u001b[0;34m'2cdiff-a.pdf'\u001b[0m\u001b[0;34m)\u001b[0m\u001b[0;34m\u001b[0m\u001b[0m\n\u001b[0m\u001b[1;32m     12\u001b[0m \u001b[0;31m# sns.distplot(c_correct_sm, rug=True, ax=ax2)\u001b[0m\u001b[0;34m\u001b[0m\u001b[0;34m\u001b[0m\u001b[0m\n\u001b[1;32m     13\u001b[0m \u001b[0;31m# sns.distplot(c_error_sm, rug=True, ax=ax2)\u001b[0m\u001b[0;34m\u001b[0m\u001b[0;34m\u001b[0m\u001b[0m\n",
      "\u001b[0;31mAttributeError\u001b[0m: 'AxesSubplot' object has no attribute 'savefig'"
     ]
    },
    {
     "data": {
      "image/png": "[encoded data removed]",
      "text/plain": [
       "<matplotlib.figure.Figure at 0x7f8b82abfc18>"
      ]
     },
     "metadata": {},
     "output_type": "display_data"
    }
   ],
   "source": [
    "fig2, (ax1, ax2) = plt.subplots(1, 2, figsize=(8, 4))\n",
    "fig2.tight_layout(w_pad=1.5)\n",
    "\n",
    "pred_correct_cdiff.sample(len(pred_error_cdiff)).abs().hist(bins=100, ax=ax1)\n",
    "pred_error_cdiff.abs().hist(bins=100, ax=ax1)\n",
    "ax1.set_xlim([0, 4])\n",
    "ax1.set_yscale('log')\n",
    "ax1.set_xlabel('$abs(C_d)$')\n",
    "ax1.set_ylabel('Frequency')\n",
    "ax1.legend(['Correct prediction', 'Incorrect prediction'])\n",
    "ax1.savefig('2cdiff-a.pdf')\n",
    "# sns.distplot(c_correct_sm, rug=True, ax=ax2)\n",
    "# sns.distplot(c_error_sm, rug=True, ax=ax2)\n",
    "c_correct_sm.hist(bins=100, ax=ax2)\n",
    "c_error_sm.hist(bins=100, ax=ax2)\n",
    "ax2.set_xlabel('$abs(C_d)$ sample mean (n=30)')\n",
    "ax2.set_ylabel('Frequency')\n",
    "ax2.legend(['Correct prediction', 'Incorrect prediction'])\n",
    "ax2.savefig('2cdiff-b.pdf')\n",
    "fig2.plot()"
   ]
  },
  {
   "cell_type": "markdown",
   "metadata": {},
   "source": [
    "There is a slight positive relationship between the absolute centroid descriptor and the prediction correctness:"
   ]
  },
  {
   "cell_type": "code",
   "execution_count": 37,
   "metadata": {},
   "outputs": [
    {
     "data": {
      "text/plain": [
       "(0.31927966900198013, 0.0)"
      ]
     },
     "execution_count": 37,
     "metadata": {},
     "output_type": "execute_result"
    }
   ],
   "source": [
    "pearsonr(noise_data_calc.cabsdiff, noise_data_calc.correct)"
   ]
  },
  {
   "cell_type": "code",
   "execution_count": 38,
   "metadata": {},
   "outputs": [
    {
     "data": {
      "text/plain": [
       "(0.3172454274466241, 0.0)"
      ]
     },
     "execution_count": 38,
     "metadata": {},
     "output_type": "execute_result"
    }
   ],
   "source": [
    "pearsonr(noise_data_calc.cfabsdiff, noise_data_calc.correct)"
   ]
  },
  {
   "cell_type": "markdown",
   "metadata": {},
   "source": [
    "## Test True-False count for each band"
   ]
  },
  {
   "cell_type": "code",
   "execution_count": null,
   "metadata": {
    "collapsed": true
   },
   "outputs": [],
   "source": [
    "def mbsa_quickplot(fn, num_bands, figsize=(4,4), to_fig=None):\n",
    "    mbsa = MultibandAnalysis(MonoSound.from_file(dir_noises + fn))\n",
    "    mbsa.bands_split = get_split_freqs_glitch_fix(num_bands)\n",
    "    mov = Movement(mbsa)\n",
    "    MultibandPlot(mbsa).plot(figsize=figsize, to_fig=to_fig)\n",
    "    return mov.report"
   ]
  },
  {
   "cell_type": "code",
   "execution_count": null,
   "metadata": {
    "collapsed": true
   },
   "outputs": [],
   "source": [
    "def test_diff_bool_still_or_rises(x):\n",
    "    s = np.sum(np.diff(x))\n",
    "    return s == 0 or s == 1\n",
    "\n",
    "filename_group = noise_data_calc.groupby('fn')\n",
    "stable_group = filename_group.filter(\n",
    "                    lambda x: test_diff_bool_still_or_rises(x.correct))\n",
    "unstable_group = filename_group.filter(\n",
    "                    lambda x: not test_diff_bool_still_or_rises(x.correct))"
   ]
  },
  {
   "cell_type": "code",
   "execution_count": null,
   "metadata": {
    "collapsed": true
   },
   "outputs": [],
   "source": [
    "df = pd.DataFrame(columns=['numbands', 'correct', 'count'])\n",
    "for (b, c), count in unstable_group.groupby(['numbands', 'correct']).count()['fn'].iteritems():\n",
    "    df.loc[len(df)] = [b, 'Correct' if c else 'Incorrect', count]\n",
    "df.numbands = df.numbands.astype(np.int)\n",
    "\n",
    "ax = sns.barplot(x='numbands', y='count', hue='correct', data=df)\n",
    "ax.set_ylabel('Frequency')\n",
    "ax.set_xlabel('Number of frequency bands')\n",
    "ax.get_legend().set_title(None)\n",
    "plt.gcf().savefig('3FalseTrueCount.pdf')"
   ]
  },
  {
   "cell_type": "code",
   "execution_count": null,
   "metadata": {
    "collapsed": true
   },
   "outputs": [],
   "source": [
    "noise_data_calc.corr()"
   ]
  },
  {
   "cell_type": "code",
   "execution_count": null,
   "metadata": {
    "collapsed": true
   },
   "outputs": [],
   "source": [
    "fig4, (ax1, ax2) = plt.subplots(1, 2, figsize=(8, 4), sharey=True)\n",
    "fig4.tight_layout(w_pad=1.5)\n",
    "\n",
    "unstable_group.groupby('numbands').correct.agg(['mean', 'std']).plot(ax=ax1)\n",
    "stable_group.groupby('numbands').correct.agg(['mean', 'std']).plot(ax=ax2)\n",
    "\n",
    "ax1.set_ylim(0, 1)\n",
    "ax1.set_ylabel('Prediction rate')\n",
    "ax1.set_xlabel('Number of frequency bands')\n",
    "ax1.annotate('a)', xy=(2.7, 0.84))\n",
    "\n",
    "ax2.set_xlabel('Number of frequency bands')\n",
    "ax2.annotate('b)', xy=(2.7, 0.84))\n",
    "\n",
    "fig4.savefig('4PR.pdf')"
   ]
  },
  {
   "cell_type": "code",
   "execution_count": null,
   "metadata": {
    "collapsed": true
   },
   "outputs": [],
   "source": [
    "stable_group.describe()"
   ]
  },
  {
   "cell_type": "code",
   "execution_count": null,
   "metadata": {
    "collapsed": true
   },
   "outputs": [],
   "source": [
    "unstable_group.describe()"
   ]
  },
  {
   "cell_type": "code",
   "execution_count": null,
   "metadata": {
    "collapsed": true
   },
   "outputs": [],
   "source": [
    "unstable_group.fn.unique()"
   ]
  },
  {
   "cell_type": "code",
   "execution_count": null,
   "metadata": {
    "collapsed": true
   },
   "outputs": [],
   "source": [
    "tf = '8686-11717--10706-7273--up.wav'\n",
    "t = unstable_group.query('fn == @tf')"
   ]
  },
  {
   "cell_type": "code",
   "execution_count": null,
   "metadata": {
    "collapsed": true
   },
   "outputs": [],
   "source": [
    "t"
   ]
  },
  {
   "cell_type": "code",
   "execution_count": null,
   "metadata": {
    "collapsed": true
   },
   "outputs": [],
   "source": [
    "mbsa_quickplot(tf, 6, to_fig='5aNoise.pdf')"
   ]
  },
  {
   "cell_type": "code",
   "execution_count": null,
   "metadata": {
    "collapsed": true
   },
   "outputs": [],
   "source": [
    "mbsa_quickplot(tf, 8, to_fig='5bNoise.pdf')"
   ]
  },
  {
   "cell_type": "code",
   "execution_count": null,
   "metadata": {
    "collapsed": true
   },
   "outputs": [],
   "source": [
    "len(noise_data_calc.query('correct == True'))"
   ]
  },
  {
   "cell_type": "code",
   "execution_count": null,
   "metadata": {
    "collapsed": true
   },
   "outputs": [],
   "source": [
    "len(noise_data_calc.query('correct == False'))"
   ]
  },
  {
   "cell_type": "code",
   "execution_count": null,
   "metadata": {
    "collapsed": true
   },
   "outputs": [],
   "source": []
  }
 ],
 "metadata": {
  "kernelspec": {
   "display_name": "Python 3",
   "language": "python",
   "name": "python3"
  },
  "language_info": {
   "codemirror_mode": {
    "name": "ipython",
    "version": 3
   },
   "file_extension": ".py",
   "mimetype": "text/x-python",
   "name": "python",
   "nbconvert_exporter": "python",
   "pygments_lexer": "ipython3",
   "version": "3.6.1"
  }
 },
 "nbformat": 4,
 "nbformat_minor": 1
}
