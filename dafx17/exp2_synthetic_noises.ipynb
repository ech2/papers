{
 "cells": [
  {
   "cell_type": "code",
   "execution_count": 5,
   "metadata": {
    "collapsed": true
   },
   "outputs": [],
   "source": [
    "import sys\n",
    "import json\n",
    "from glob import glob\n",
    "from os.path import basename\n",
    "from multiprocessing import Queue, Pool, Manager\n",
    "from functools import partial\n",
    "from imp import reload\n",
    "\n",
    "import numpy as np\n",
    "import pandas as pd\n",
    "import matplotlib\n",
    "import matplotlib.pyplot as plt\n",
    "import seaborn as sns\n",
    "from scipy.stats import pearsonr\n",
    "from statsmodels.stats.weightstats import CompareMeans, DescrStatsW\n",
    "from sklearn.metrics import mean_squared_error as ms_err\n",
    "\n",
    "import framework ; framework = reload(framework) ; from framework import *\n",
    "import dsp ; dsp = reload(dsp) ; from dsp import *\n",
    "import plotting ; plotting = reload(plotting) ; from plotting import *\n",
    "\n",
    "plotting.plt.rcParams.update({'font.size': 14})\n",
    "matplotlib.rcParams.update({'font.size': 14})\n",
    "\n",
    "%matplotlib inline"
   ]
  },
  {
   "cell_type": "markdown",
   "metadata": {},
   "source": [
    "## Generate DataFrames from file names"
   ]
  },
  {
   "cell_type": "code",
   "execution_count": 6,
   "metadata": {
    "collapsed": true
   },
   "outputs": [],
   "source": [
    "dir_noises = 'data/test_noises/'\n",
    "\n",
    "def parse_cfbw(filename):\n",
    "    beg, end, d = filename.replace('.wav', '').split('--')\n",
    "    cf1, bw1 = [int(x) for x in beg.split('-')]\n",
    "    cf2, bw2 = [int(x) for x in end.split('-')]\n",
    "    return [cf1, bw1, cf2, bw2, d]\n",
    "\n",
    "def make_df_from_filenames():\n",
    "    rows = []\n",
    "    for w in glob(dir_noises + '*.wav'):\n",
    "        bn = basename(w)\n",
    "        rows.append([bn] + parse_cfbw(bn))\n",
    "    df = pd.DataFrame(rows, columns=['fn', 'cf1', 'bw1', 'cf2', 'bw2', 'dir'])\n",
    "    df_files = df.iloc[:, 0:1]\n",
    "    df_data = df.iloc[:, 1:]\n",
    "    return df_files, df_data"
   ]
  },
  {
   "cell_type": "code",
   "execution_count": 7,
   "metadata": {
    "collapsed": true
   },
   "outputs": [],
   "source": [
    "noise_files, noise_data_orig = make_df_from_filenames()"
   ]
  },
  {
   "cell_type": "markdown",
   "metadata": {},
   "source": [
    "## Evaluate the method using noises as input"
   ]
  },
  {
   "cell_type": "code",
   "execution_count": 8,
   "metadata": {
    "collapsed": true
   },
   "outputs": [],
   "source": [
    "def get_split_freqs_glitch_fix(num_bands):  # FIXME glitch in low-frequency bands\n",
    "    if num_bands > 12:  \n",
    "        return get_split_freqs(num_bands)[2:], num_bands - 2\n",
    "    else:\n",
    "        return get_split_freqs(num_bands), num_bands\n",
    "\n",
    "def cmp_to_str(x1, x2):\n",
    "    if x1 < x2:\n",
    "        return 'up'\n",
    "    elif x1 > x2:\n",
    "        return 'down'\n",
    "    else:\n",
    "        return 'still'\n",
    "    \n",
    "\n",
    "def eval_worker(q, num_bands_list, fn):\n",
    "    rows = []\n",
    "    for num_bands in num_bands_list:\n",
    "        msa = MultibandAnalysis(MonoSound.from_file(dir_noises + fn))\n",
    "        msa.bands_split, nbands = get_split_freqs_glitch_fix(num_bands)  # FIXME\n",
    "        m = Movement(msa)\n",
    "        row = [fn, int(nbands)]\n",
    "        row += list(m.report.loc['Band Centroid', :])\n",
    "        row += list(m.report.loc['Cumulative Peak Values', :])\n",
    "        row += [json.dumps([ms_err(b.env, b.render_bpf()) for b in msa.bands])]\n",
    "        row += [json.dumps(m.report_data.tolist())]\n",
    "        rows.append(row)\n",
    "    q.put(rows, True)\n",
    "\n",
    "    \n",
    "def method_eval(num_threads=8, num_bands_list=[2, 4, 6, 8, 10, 12, 16, 18, 20, 22]):\n",
    "    files_total = len(noise_files)\n",
    "    columns=['fn', 'numbands', 'cbeg', 'cend', 'cpvbeg', 'cpvend',\n",
    "             'mse_raw', 'movement_raw']\n",
    "    pool = Pool(num_threads)\n",
    "    res_q = Manager().Queue(maxsize=num_threads)\n",
    "    \n",
    "#     s1 = set(noise_files['fn'])\n",
    "#     s2 = set(pd.read_csv('noise_data_calc-bkp.csv', sep=';')['fn'])\n",
    "#     files = list(s1.symmetric_difference(s2))\n",
    "#     files_total = len(files)\n",
    "#     pool.map_async(partial(eval_worker, res_q, num_bands_list), files)\n",
    "\n",
    "    pool.map_async(partial(eval_worker, res_q, num_bands_list), noise_files['fn'])\n",
    "    count = 0\n",
    "    try:\n",
    "        with open('noise_data_calc.csv', 'w') as f:\n",
    "            f.write(';'.join(columns))\n",
    "            f.write('\\n')\n",
    "            while count < files_total: \n",
    "                for res in res_q.get(True, 30):\n",
    "                    f.write(';'.join([str(c) for c in res]))\n",
    "                    f.write('\\n')\n",
    "                count += 1\n",
    "                sys.stdout.write('{} / {}\\r'.format(count, files_total))\n",
    "                sys.stdout.flush()\n",
    "    finally:\n",
    "        print('\\nDone')"
   ]
  },
  {
   "cell_type": "code",
   "execution_count": 9,
   "metadata": {},
   "outputs": [
    {
     "name": "stdout",
     "output_type": "stream",
     "text": [
      "36533 / 36533\n",
      "Done\n"
     ]
    }
   ],
   "source": [
    "method_eval()"
   ]
  },
  {
   "cell_type": "code",
   "execution_count": 6,
   "metadata": {
    "collapsed": true
   },
   "outputs": [],
   "source": [
    "def import_data(csv_file='noise_data_calc.csv', sep=';'):\n",
    "    df = pd.read_csv(csv_file, sep=sep)\n",
    "    string_enc = df['fn'].str.replace('.wav', '').str.split('--')\n",
    "    df['cabsdiff'] = (df['cend'] - df['cbeg']).abs()\n",
    "    df['cf1'] = string_enc.str.get(0).str.split('-').str.get(0).apply(pd.to_numeric)\n",
    "    df['bw1'] = string_enc.str.get(0).str.split('-').str.get(1).apply(pd.to_numeric)\n",
    "    df['cf2'] = string_enc.str.get(1).str.split('-').str.get(0).apply(pd.to_numeric)\n",
    "    df['bw2'] = string_enc.str.get(1).str.split('-').str.get(1).apply(pd.to_numeric)\n",
    "    df['dirorig'] = string_enc.str.get(2)\n",
    "    df['dirpred'] = df.apply(lambda x: cmp_to_str(x['cbeg'], x['cend']), axis=1)\n",
    "    df['correct'] = df['dirorig'] == df['dirpred']\n",
    "    df['cfabsdiff'] = (df.cf1 - df.cf2).abs()\n",
    "    df['bwabsdiff'] = (df.bw1 - df.bw2).abs()\n",
    "    df['cpvabsdiff'] = (df.cpvbeg - df.cpvend).abs()\n",
    "    df['rsmse'] = [np.sqrt(np.sum(json.loads(rse))) for rse in df['mse_raw']]\n",
    "\n",
    "    return df"
   ]
  },
  {
   "cell_type": "markdown",
   "metadata": {},
   "source": [
    "## Read data"
   ]
  },
  {
   "cell_type": "code",
   "execution_count": 7,
   "metadata": {
    "collapsed": true
   },
   "outputs": [],
   "source": [
    "# noise_data_calc = import_data()\n",
    "# noise_data_calc.to_csv('noise_data_calc-cached.csv', sep=';')\n",
    "noise_data_calc = pd.read_csv('noise_data_calc-cached.csv', sep=';', index_col=0)\n",
    "# noise_data_calc = noise_data_calc.query('dirorig != \"still\"')"
   ]
  },
  {
   "cell_type": "code",
   "execution_count": 8,
   "metadata": {},
   "outputs": [
    {
     "data": {
      "text/html": [
       "<div>\n",
       "<table border=\"1\" class=\"dataframe\">\n",
       "  <thead>\n",
       "    <tr style=\"text-align: right;\">\n",
       "      <th></th>\n",
       "      <th>numbands</th>\n",
       "      <th>cbeg</th>\n",
       "      <th>cend</th>\n",
       "      <th>cpvbeg</th>\n",
       "      <th>cpvend</th>\n",
       "      <th>cabsdiff</th>\n",
       "      <th>cf1</th>\n",
       "      <th>bw1</th>\n",
       "      <th>cf2</th>\n",
       "      <th>bw2</th>\n",
       "      <th>cfabsdiff</th>\n",
       "      <th>bwabsdiff</th>\n",
       "      <th>cpvabsdiff</th>\n",
       "      <th>rsmse</th>\n",
       "    </tr>\n",
       "  </thead>\n",
       "  <tbody>\n",
       "    <tr>\n",
       "      <th>count</th>\n",
       "      <td>365330.000000</td>\n",
       "      <td>365330.000000</td>\n",
       "      <td>365330.000000</td>\n",
       "      <td>365330.000000</td>\n",
       "      <td>365330.000000</td>\n",
       "      <td>365330.000000</td>\n",
       "      <td>365330.000000</td>\n",
       "      <td>365330.000000</td>\n",
       "      <td>365330.000000</td>\n",
       "      <td>365330.000000</td>\n",
       "      <td>365330.000000</td>\n",
       "      <td>365330.000000</td>\n",
       "      <td>3.653300e+05</td>\n",
       "      <td>365330.000000</td>\n",
       "    </tr>\n",
       "    <tr>\n",
       "      <th>mean</th>\n",
       "      <td>11.000000</td>\n",
       "      <td>8.360949</td>\n",
       "      <td>8.959880</td>\n",
       "      <td>0.636451</td>\n",
       "      <td>0.322889</td>\n",
       "      <td>0.674405</td>\n",
       "      <td>9251.421099</td>\n",
       "      <td>9385.327211</td>\n",
       "      <td>10739.874388</td>\n",
       "      <td>5455.985794</td>\n",
       "      <td>2350.874497</td>\n",
       "      <td>5326.196973</td>\n",
       "      <td>3.555476e-01</td>\n",
       "      <td>0.024800</td>\n",
       "    </tr>\n",
       "    <tr>\n",
       "      <th>std</th>\n",
       "      <td>5.744571</td>\n",
       "      <td>4.743284</td>\n",
       "      <td>5.066186</td>\n",
       "      <td>0.356822</td>\n",
       "      <td>0.201362</td>\n",
       "      <td>0.648599</td>\n",
       "      <td>3130.563647</td>\n",
       "      <td>4830.495430</td>\n",
       "      <td>3473.152723</td>\n",
       "      <td>3981.714117</td>\n",
       "      <td>1420.052374</td>\n",
       "      <td>3946.324924</td>\n",
       "      <td>2.772882e-01</td>\n",
       "      <td>0.009208</td>\n",
       "    </tr>\n",
       "    <tr>\n",
       "      <th>min</th>\n",
       "      <td>2.000000</td>\n",
       "      <td>0.017884</td>\n",
       "      <td>0.068729</td>\n",
       "      <td>0.004467</td>\n",
       "      <td>0.001510</td>\n",
       "      <td>0.000000</td>\n",
       "      <td>101.000000</td>\n",
       "      <td>202.000000</td>\n",
       "      <td>202.000000</td>\n",
       "      <td>202.000000</td>\n",
       "      <td>0.000000</td>\n",
       "      <td>0.000000</td>\n",
       "      <td>1.866010e-07</td>\n",
       "      <td>0.007419</td>\n",
       "    </tr>\n",
       "    <tr>\n",
       "      <th>25%</th>\n",
       "      <td>6.000000</td>\n",
       "      <td>4.350291</td>\n",
       "      <td>4.724189</td>\n",
       "      <td>0.358391</td>\n",
       "      <td>0.178634</td>\n",
       "      <td>0.170614</td>\n",
       "      <td>7171.000000</td>\n",
       "      <td>5656.000000</td>\n",
       "      <td>8282.000000</td>\n",
       "      <td>2222.000000</td>\n",
       "      <td>1111.000000</td>\n",
       "      <td>2021.000000</td>\n",
       "      <td>1.397293e-01</td>\n",
       "      <td>0.017574</td>\n",
       "    </tr>\n",
       "    <tr>\n",
       "      <th>50%</th>\n",
       "      <td>11.000000</td>\n",
       "      <td>8.373404</td>\n",
       "      <td>8.908714</td>\n",
       "      <td>0.574599</td>\n",
       "      <td>0.276298</td>\n",
       "      <td>0.496205</td>\n",
       "      <td>9393.000000</td>\n",
       "      <td>9495.000000</td>\n",
       "      <td>10807.000000</td>\n",
       "      <td>4647.000000</td>\n",
       "      <td>2323.000000</td>\n",
       "      <td>4445.000000</td>\n",
       "      <td>2.921617e-01</td>\n",
       "      <td>0.023012</td>\n",
       "    </tr>\n",
       "    <tr>\n",
       "      <th>75%</th>\n",
       "      <td>16.000000</td>\n",
       "      <td>12.226990</td>\n",
       "      <td>13.119704</td>\n",
       "      <td>0.861516</td>\n",
       "      <td>0.423793</td>\n",
       "      <td>0.986970</td>\n",
       "      <td>11312.000000</td>\n",
       "      <td>13131.000000</td>\n",
       "      <td>13231.000000</td>\n",
       "      <td>8080.000000</td>\n",
       "      <td>3535.000000</td>\n",
       "      <td>7878.000000</td>\n",
       "      <td>5.104667e-01</td>\n",
       "      <td>0.030555</td>\n",
       "    </tr>\n",
       "    <tr>\n",
       "      <th>max</th>\n",
       "      <td>20.000000</td>\n",
       "      <td>18.990681</td>\n",
       "      <td>18.993211</td>\n",
       "      <td>2.105013</td>\n",
       "      <td>1.693726</td>\n",
       "      <td>5.750067</td>\n",
       "      <td>18989.000000</td>\n",
       "      <td>20000.000000</td>\n",
       "      <td>19898.000000</td>\n",
       "      <td>19595.000000</td>\n",
       "      <td>4950.000000</td>\n",
       "      <td>19596.000000</td>\n",
       "      <td>1.762928e+00</td>\n",
       "      <td>0.074658</td>\n",
       "    </tr>\n",
       "  </tbody>\n",
       "</table>\n",
       "</div>"
      ],
      "text/plain": [
       "            numbands           cbeg           cend         cpvbeg  \\\n",
       "count  365330.000000  365330.000000  365330.000000  365330.000000   \n",
       "mean       11.000000       8.360949       8.959880       0.636451   \n",
       "std         5.744571       4.743284       5.066186       0.356822   \n",
       "min         2.000000       0.017884       0.068729       0.004467   \n",
       "25%         6.000000       4.350291       4.724189       0.358391   \n",
       "50%        11.000000       8.373404       8.908714       0.574599   \n",
       "75%        16.000000      12.226990      13.119704       0.861516   \n",
       "max        20.000000      18.990681      18.993211       2.105013   \n",
       "\n",
       "              cpvend       cabsdiff            cf1            bw1  \\\n",
       "count  365330.000000  365330.000000  365330.000000  365330.000000   \n",
       "mean        0.322889       0.674405    9251.421099    9385.327211   \n",
       "std         0.201362       0.648599    3130.563647    4830.495430   \n",
       "min         0.001510       0.000000     101.000000     202.000000   \n",
       "25%         0.178634       0.170614    7171.000000    5656.000000   \n",
       "50%         0.276298       0.496205    9393.000000    9495.000000   \n",
       "75%         0.423793       0.986970   11312.000000   13131.000000   \n",
       "max         1.693726       5.750067   18989.000000   20000.000000   \n",
       "\n",
       "                 cf2            bw2      cfabsdiff      bwabsdiff  \\\n",
       "count  365330.000000  365330.000000  365330.000000  365330.000000   \n",
       "mean    10739.874388    5455.985794    2350.874497    5326.196973   \n",
       "std      3473.152723    3981.714117    1420.052374    3946.324924   \n",
       "min       202.000000     202.000000       0.000000       0.000000   \n",
       "25%      8282.000000    2222.000000    1111.000000    2021.000000   \n",
       "50%     10807.000000    4647.000000    2323.000000    4445.000000   \n",
       "75%     13231.000000    8080.000000    3535.000000    7878.000000   \n",
       "max     19898.000000   19595.000000    4950.000000   19596.000000   \n",
       "\n",
       "         cpvabsdiff          rsmse  \n",
       "count  3.653300e+05  365330.000000  \n",
       "mean   3.555476e-01       0.024800  \n",
       "std    2.772882e-01       0.009208  \n",
       "min    1.866010e-07       0.007419  \n",
       "25%    1.397293e-01       0.017574  \n",
       "50%    2.921617e-01       0.023012  \n",
       "75%    5.104667e-01       0.030555  \n",
       "max    1.762928e+00       0.074658  "
      ]
     },
     "execution_count": 8,
     "metadata": {},
     "output_type": "execute_result"
    }
   ],
   "source": [
    "noise_data_calc.describe()"
   ]
  },
  {
   "cell_type": "markdown",
   "metadata": {},
   "source": [
    "## Test sampling distribution of a mean C_diff"
   ]
  },
  {
   "cell_type": "code",
   "execution_count": 9,
   "metadata": {
    "collapsed": true
   },
   "outputs": [],
   "source": [
    "pred_correct = noise_data_calc.query('correct == True')\n",
    "pred_error = noise_data_calc.query('correct == False')\n",
    "pred_correct_cdiff = pred_correct['cend'] - pred_correct['cbeg']\n",
    "pred_error_cdiff = pred_error['cend'] - pred_error['cbeg']"
   ]
  },
  {
   "cell_type": "code",
   "execution_count": 10,
   "metadata": {},
   "outputs": [
    {
     "data": {
      "text/plain": [
       "'Correct predictions: 279856, wrong predictions: 85474 / 77% correct'"
      ]
     },
     "execution_count": 10,
     "metadata": {},
     "output_type": "execute_result"
    }
   ],
   "source": [
    "'Correct predictions: {}, wrong predictions: {} / {}% correct'.format(\n",
    "    len(pred_correct), len(pred_error),\n",
    "    round(len(pred_correct) / float(len(noise_data_calc)) * 100))"
   ]
  },
  {
   "cell_type": "code",
   "execution_count": 11,
   "metadata": {},
   "outputs": [
    {
     "data": {
      "text/plain": [
       "<matplotlib.axes._subplots.AxesSubplot at 0x116cd9710>"
      ]
     },
     "execution_count": 11,
     "metadata": {},
     "output_type": "execute_result"
    },
    {
     "data": {
      "image/png": "[encoded data removed]",
      "text/plain": [
       "<matplotlib.figure.Figure at 0x116cc4780>"
      ]
     },
     "metadata": {},
     "output_type": "display_data"
    }
   ],
   "source": [
    "sns.heatmap(noise_data_calc.corr())"
   ]
  },
  {
   "cell_type": "code",
   "execution_count": 12,
   "metadata": {
    "collapsed": true
   },
   "outputs": [],
   "source": [
    "def calc_sm(x, sample_size=20, iters=15000):\n",
    "    return pd.Series([x.abs().sample(sample_size).mean() for _ in range(iters)])"
   ]
  },
  {
   "cell_type": "code",
   "execution_count": 13,
   "metadata": {
    "collapsed": true
   },
   "outputs": [],
   "source": [
    "c_correct_sm = calc_sm(pred_correct_cdiff)\n",
    "c_error_sm = calc_sm(pred_error_cdiff)"
   ]
  },
  {
   "cell_type": "code",
   "execution_count": 28,
   "metadata": {},
   "outputs": [
    {
     "data": {
      "image/png": "[encoded data removed]",
      "text/plain": [
       "<matplotlib.figure.Figure at 0x119cdcdd8>"
      ]
     },
     "metadata": {},
     "output_type": "display_data"
    }
   ],
   "source": [
    "pred_correct_cdiff.sample(len(pred_error_cdiff)).abs().hist(bins=100)\n",
    "pred_error_cdiff.abs().hist(bins=100)\n",
    "ax = plt.gca()\n",
    "ax.set_xlim([0, 5])\n",
    "ax.set_yscale('log')\n",
    "ax.set_xlabel('abs(Cd)', fontsize=14)\n",
    "ax.set_ylabel('Number of occurences', fontsize=14)\n",
    "ax.legend(['Correct prediction', 'Incorrect prediction'], prop={'size': 14})\n",
    "for item in (ax.get_xticklabels() + ax.get_yticklabels()):\n",
    "    item.set_fontsize(12)\n",
    "plt.savefig('2cdiff-a.pdf')"
   ]
  },
  {
   "cell_type": "code",
   "execution_count": 31,
   "metadata": {},
   "outputs": [
    {
     "data": {
      "image/png": "[encoded data removed]",
      "text/plain": [
       "<matplotlib.figure.Figure at 0x11c23f7f0>"
      ]
     },
     "metadata": {},
     "output_type": "display_data"
    }
   ],
   "source": [
    "c_correct_sm.hist(bins=100)\n",
    "c_error_sm.hist(bins=100)\n",
    "ax = plt.gca()\n",
    "ax.set_xlabel('abs(Cd) sample mean (n=30)', fontsize=14)\n",
    "ax.set_ylabel('Number of occurences', fontsize=14)\n",
    "ax.legend(['Correct prediction', 'Incorrect prediction'], prop={'size': 14})\n",
    "for item in (ax.get_xticklabels() + ax.get_yticklabels()):\n",
    "    item.set_fontsize(12)\n",
    "plt.savefig('2cdiff-b.pdf')"
   ]
  },
  {
   "cell_type": "markdown",
   "metadata": {},
   "source": [
    "There is a slight positive relationship between the absolute centroid descriptor and the prediction correctness:"
   ]
  },
  {
   "cell_type": "code",
   "execution_count": 32,
   "metadata": {},
   "outputs": [
    {
     "data": {
      "text/plain": [
       "(0.31927966900198013, 0.0)"
      ]
     },
     "execution_count": 32,
     "metadata": {},
     "output_type": "execute_result"
    }
   ],
   "source": [
    "pearsonr(noise_data_calc.cabsdiff, noise_data_calc.correct)"
   ]
  },
  {
   "cell_type": "markdown",
   "metadata": {},
   "source": [
    "## Test True-False count for each band"
   ]
  },
  {
   "cell_type": "code",
   "execution_count": 34,
   "metadata": {
    "collapsed": true
   },
   "outputs": [],
   "source": [
    "def mbsa_quickplot(fn, num_bands, figsize=(4,4), to_fig=None):\n",
    "    mbsa = MultibandAnalysis(MonoSound.from_file('data/' + fn))\n",
    "    mbsa.bands_split = get_split_freqs_glitch_fix(num_bands)\n",
    "    mov = Movement(mbsa)\n",
    "    MultibandPlot(mbsa).plot(figsize=figsize, to_fig=to_fig)\n",
    "    return mov.report"
   ]
  },
  {
   "cell_type": "code",
   "execution_count": 65,
   "metadata": {
    "collapsed": true
   },
   "outputs": [],
   "source": [
    "def test_diff_bool_still_or_rises(x):\n",
    "    s = np.sum(np.abs(np.diff(x.astype(int))))\n",
    "    return s == 0 or s == 1\n",
    "\n",
    "filename_group = noise_data_calc.groupby('fn')\n",
    "stable_group = filename_group.filter(\n",
    "                    lambda x: test_diff_bool_still_or_rises(x.correct))\n",
    "unstable_group = filename_group.filter(\n",
    "                    lambda x: not test_diff_bool_still_or_rises(x.correct))"
   ]
  },
  {
   "cell_type": "code",
   "execution_count": 93,
   "metadata": {},
   "outputs": [
    {
     "data": {
      "image/png": "[encoded data removed]",
      "text/plain": [
       "<matplotlib.figure.Figure at 0x118c959b0>"
      ]
     },
     "metadata": {},
     "output_type": "display_data"
    }
   ],
   "source": [
    "unstable_group.groupby('numbands').correct.agg(['mean']).plot()\n",
    "ax = plt.gca()\n",
    "ax.set_ylim(0, 1)\n",
    "ax.set_ylabel('Precision', fontsize=14)\n",
    "ax.set_xlabel('Number of frequency bands', fontsize=14)\n",
    "for item in (ax.get_xticklabels() + ax.get_yticklabels()):\n",
    "    item.set_fontsize(12)\n",
    "ax.legend().set_visible(False)\n",
    "plt.savefig('3Precision-a.pdf')"
   ]
  },
  {
   "cell_type": "code",
   "execution_count": 92,
   "metadata": {},
   "outputs": [
    {
     "data": {
      "image/png": "[encoded data removed]",
      "text/plain": [
       "<matplotlib.figure.Figure at 0x11a36f630>"
      ]
     },
     "metadata": {},
     "output_type": "display_data"
    }
   ],
   "source": [
    "stable_group.groupby('numbands').correct.agg(['mean']).plot()\n",
    "ax = plt.gca()\n",
    "ax.set_ylim(0, 1)\n",
    "ax.set_ylabel('Precision', fontsize=14)\n",
    "ax.set_xlabel('Number of frequency bands', fontsize=14)\n",
    "for item in (ax.get_xticklabels() + ax.get_yticklabels()):\n",
    "    item.set_fontsize(12)\n",
    "ax.set_xlabel('Number of frequency bands', fontsize=14)\n",
    "ax.legend().set_visible(False)\n",
    "plt.savefig('3Precision-b.pdf')"
   ]
  },
  {
   "cell_type": "code",
   "execution_count": 76,
   "metadata": {},
   "outputs": [
    {
     "data": {
      "text/html": [
       "<div>\n",
       "<table border=\"1\" class=\"dataframe\">\n",
       "  <thead>\n",
       "    <tr style=\"text-align: right;\">\n",
       "      <th></th>\n",
       "      <th>numbands</th>\n",
       "      <th>cbeg</th>\n",
       "      <th>cend</th>\n",
       "      <th>cpvbeg</th>\n",
       "      <th>cpvend</th>\n",
       "      <th>cabsdiff</th>\n",
       "      <th>cf1</th>\n",
       "      <th>bw1</th>\n",
       "      <th>cf2</th>\n",
       "      <th>bw2</th>\n",
       "      <th>cfabsdiff</th>\n",
       "      <th>bwabsdiff</th>\n",
       "      <th>cpvabsdiff</th>\n",
       "      <th>rsmse</th>\n",
       "    </tr>\n",
       "  </thead>\n",
       "  <tbody>\n",
       "    <tr>\n",
       "      <th>count</th>\n",
       "      <td>310740.000000</td>\n",
       "      <td>310740.000000</td>\n",
       "      <td>310740.000000</td>\n",
       "      <td>310740.000000</td>\n",
       "      <td>310740.000000</td>\n",
       "      <td>310740.000000</td>\n",
       "      <td>310740.000000</td>\n",
       "      <td>310740.000000</td>\n",
       "      <td>310740.000000</td>\n",
       "      <td>310740.000000</td>\n",
       "      <td>310740.000000</td>\n",
       "      <td>310740.000000</td>\n",
       "      <td>3.107400e+05</td>\n",
       "      <td>310740.000000</td>\n",
       "    </tr>\n",
       "    <tr>\n",
       "      <th>mean</th>\n",
       "      <td>11.000000</td>\n",
       "      <td>8.347853</td>\n",
       "      <td>9.004030</td>\n",
       "      <td>0.622558</td>\n",
       "      <td>0.323290</td>\n",
       "      <td>0.729798</td>\n",
       "      <td>9146.077428</td>\n",
       "      <td>8991.676289</td>\n",
       "      <td>10936.523878</td>\n",
       "      <td>5385.039358</td>\n",
       "      <td>2417.524844</td>\n",
       "      <td>5050.965759</td>\n",
       "      <td>3.396691e-01</td>\n",
       "      <td>0.024625</td>\n",
       "    </tr>\n",
       "    <tr>\n",
       "      <th>std</th>\n",
       "      <td>5.744572</td>\n",
       "      <td>4.742824</td>\n",
       "      <td>5.086824</td>\n",
       "      <td>0.349125</td>\n",
       "      <td>0.199459</td>\n",
       "      <td>0.663602</td>\n",
       "      <td>3253.466838</td>\n",
       "      <td>4739.967466</td>\n",
       "      <td>3504.713427</td>\n",
       "      <td>3865.580136</td>\n",
       "      <td>1429.980397</td>\n",
       "      <td>3656.454363</td>\n",
       "      <td>2.681802e-01</td>\n",
       "      <td>0.009072</td>\n",
       "    </tr>\n",
       "    <tr>\n",
       "      <th>min</th>\n",
       "      <td>2.000000</td>\n",
       "      <td>0.017884</td>\n",
       "      <td>0.068729</td>\n",
       "      <td>0.010536</td>\n",
       "      <td>0.001533</td>\n",
       "      <td>0.000000</td>\n",
       "      <td>101.000000</td>\n",
       "      <td>202.000000</td>\n",
       "      <td>202.000000</td>\n",
       "      <td>202.000000</td>\n",
       "      <td>0.000000</td>\n",
       "      <td>0.000000</td>\n",
       "      <td>1.866010e-07</td>\n",
       "      <td>0.007419</td>\n",
       "    </tr>\n",
       "    <tr>\n",
       "      <th>25%</th>\n",
       "      <td>6.000000</td>\n",
       "      <td>4.348804</td>\n",
       "      <td>4.757118</td>\n",
       "      <td>0.351847</td>\n",
       "      <td>0.179300</td>\n",
       "      <td>0.222843</td>\n",
       "      <td>6969.000000</td>\n",
       "      <td>5252.000000</td>\n",
       "      <td>8484.000000</td>\n",
       "      <td>2222.000000</td>\n",
       "      <td>1212.000000</td>\n",
       "      <td>2020.000000</td>\n",
       "      <td>1.302501e-01</td>\n",
       "      <td>0.017544</td>\n",
       "    </tr>\n",
       "    <tr>\n",
       "      <th>50%</th>\n",
       "      <td>11.000000</td>\n",
       "      <td>8.349343</td>\n",
       "      <td>8.922399</td>\n",
       "      <td>0.560280</td>\n",
       "      <td>0.275280</td>\n",
       "      <td>0.563641</td>\n",
       "      <td>9191.000000</td>\n",
       "      <td>8889.000000</td>\n",
       "      <td>11009.000000</td>\n",
       "      <td>4646.000000</td>\n",
       "      <td>2424.000000</td>\n",
       "      <td>4444.000000</td>\n",
       "      <td>2.758908e-01</td>\n",
       "      <td>0.022852</td>\n",
       "    </tr>\n",
       "    <tr>\n",
       "      <th>75%</th>\n",
       "      <td>16.000000</td>\n",
       "      <td>12.203126</td>\n",
       "      <td>13.184327</td>\n",
       "      <td>0.840982</td>\n",
       "      <td>0.423339</td>\n",
       "      <td>1.054646</td>\n",
       "      <td>11313.000000</td>\n",
       "      <td>12525.000000</td>\n",
       "      <td>13434.000000</td>\n",
       "      <td>7879.000000</td>\n",
       "      <td>3636.000000</td>\n",
       "      <td>7474.000000</td>\n",
       "      <td>4.874254e-01</td>\n",
       "      <td>0.030214</td>\n",
       "    </tr>\n",
       "    <tr>\n",
       "      <th>max</th>\n",
       "      <td>20.000000</td>\n",
       "      <td>18.990681</td>\n",
       "      <td>18.993211</td>\n",
       "      <td>2.082625</td>\n",
       "      <td>1.688622</td>\n",
       "      <td>5.750067</td>\n",
       "      <td>18989.000000</td>\n",
       "      <td>20000.000000</td>\n",
       "      <td>19898.000000</td>\n",
       "      <td>19595.000000</td>\n",
       "      <td>4950.000000</td>\n",
       "      <td>19394.000000</td>\n",
       "      <td>1.646249e+00</td>\n",
       "      <td>0.074658</td>\n",
       "    </tr>\n",
       "  </tbody>\n",
       "</table>\n",
       "</div>"
      ],
      "text/plain": [
       "            numbands           cbeg           cend         cpvbeg  \\\n",
       "count  310740.000000  310740.000000  310740.000000  310740.000000   \n",
       "mean       11.000000       8.347853       9.004030       0.622558   \n",
       "std         5.744572       4.742824       5.086824       0.349125   \n",
       "min         2.000000       0.017884       0.068729       0.010536   \n",
       "25%         6.000000       4.348804       4.757118       0.351847   \n",
       "50%        11.000000       8.349343       8.922399       0.560280   \n",
       "75%        16.000000      12.203126      13.184327       0.840982   \n",
       "max        20.000000      18.990681      18.993211       2.082625   \n",
       "\n",
       "              cpvend       cabsdiff            cf1            bw1  \\\n",
       "count  310740.000000  310740.000000  310740.000000  310740.000000   \n",
       "mean        0.323290       0.729798    9146.077428    8991.676289   \n",
       "std         0.199459       0.663602    3253.466838    4739.967466   \n",
       "min         0.001533       0.000000     101.000000     202.000000   \n",
       "25%         0.179300       0.222843    6969.000000    5252.000000   \n",
       "50%         0.275280       0.563641    9191.000000    8889.000000   \n",
       "75%         0.423339       1.054646   11313.000000   12525.000000   \n",
       "max         1.688622       5.750067   18989.000000   20000.000000   \n",
       "\n",
       "                 cf2            bw2      cfabsdiff      bwabsdiff  \\\n",
       "count  310740.000000  310740.000000  310740.000000  310740.000000   \n",
       "mean    10936.523878    5385.039358    2417.524844    5050.965759   \n",
       "std      3504.713427    3865.580136    1429.980397    3656.454363   \n",
       "min       202.000000     202.000000       0.000000       0.000000   \n",
       "25%      8484.000000    2222.000000    1212.000000    2020.000000   \n",
       "50%     11009.000000    4646.000000    2424.000000    4444.000000   \n",
       "75%     13434.000000    7879.000000    3636.000000    7474.000000   \n",
       "max     19898.000000   19595.000000    4950.000000   19394.000000   \n",
       "\n",
       "         cpvabsdiff          rsmse  \n",
       "count  3.107400e+05  310740.000000  \n",
       "mean   3.396691e-01       0.024625  \n",
       "std    2.681802e-01       0.009072  \n",
       "min    1.866010e-07       0.007419  \n",
       "25%    1.302501e-01       0.017544  \n",
       "50%    2.758908e-01       0.022852  \n",
       "75%    4.874254e-01       0.030214  \n",
       "max    1.646249e+00       0.074658  "
      ]
     },
     "execution_count": 76,
     "metadata": {},
     "output_type": "execute_result"
    }
   ],
   "source": [
    "stable_group.describe()"
   ]
  },
  {
   "cell_type": "code",
   "execution_count": 77,
   "metadata": {},
   "outputs": [
    {
     "data": {
      "text/html": [
       "<div>\n",
       "<table border=\"1\" class=\"dataframe\">\n",
       "  <thead>\n",
       "    <tr style=\"text-align: right;\">\n",
       "      <th></th>\n",
       "      <th>numbands</th>\n",
       "      <th>cbeg</th>\n",
       "      <th>cend</th>\n",
       "      <th>cpvbeg</th>\n",
       "      <th>cpvend</th>\n",
       "      <th>cabsdiff</th>\n",
       "      <th>cf1</th>\n",
       "      <th>bw1</th>\n",
       "      <th>cf2</th>\n",
       "      <th>bw2</th>\n",
       "      <th>cfabsdiff</th>\n",
       "      <th>bwabsdiff</th>\n",
       "      <th>cpvabsdiff</th>\n",
       "      <th>rsmse</th>\n",
       "    </tr>\n",
       "  </thead>\n",
       "  <tbody>\n",
       "    <tr>\n",
       "      <th>count</th>\n",
       "      <td>54590.000000</td>\n",
       "      <td>54590.000000</td>\n",
       "      <td>54590.000000</td>\n",
       "      <td>54590.000000</td>\n",
       "      <td>54590.000000</td>\n",
       "      <td>54590.000000</td>\n",
       "      <td>54590.000000</td>\n",
       "      <td>54590.000000</td>\n",
       "      <td>54590.000000</td>\n",
       "      <td>54590.000000</td>\n",
       "      <td>54590.000000</td>\n",
       "      <td>54590.000000</td>\n",
       "      <td>54590.000000</td>\n",
       "      <td>54590.000000</td>\n",
       "    </tr>\n",
       "    <tr>\n",
       "      <th>mean</th>\n",
       "      <td>11.000000</td>\n",
       "      <td>8.435492</td>\n",
       "      <td>8.708565</td>\n",
       "      <td>0.715538</td>\n",
       "      <td>0.320608</td>\n",
       "      <td>0.359094</td>\n",
       "      <td>9851.063748</td>\n",
       "      <td>11626.087195</td>\n",
       "      <td>9620.496062</td>\n",
       "      <td>5859.830738</td>\n",
       "      <td>1971.483971</td>\n",
       "      <td>6892.882213</td>\n",
       "      <td>0.445932</td>\n",
       "      <td>0.025794</td>\n",
       "    </tr>\n",
       "    <tr>\n",
       "      <th>std</th>\n",
       "      <td>5.744615</td>\n",
       "      <td>4.745258</td>\n",
       "      <td>4.939600</td>\n",
       "      <td>0.388460</td>\n",
       "      <td>0.211854</td>\n",
       "      <td>0.437873</td>\n",
       "      <td>2216.202149</td>\n",
       "      <td>4728.925110</td>\n",
       "      <td>3055.527458</td>\n",
       "      <td>4566.205502</td>\n",
       "      <td>1298.573502</td>\n",
       "      <td>5023.236709</td>\n",
       "      <td>0.309137</td>\n",
       "      <td>0.009890</td>\n",
       "    </tr>\n",
       "    <tr>\n",
       "      <th>min</th>\n",
       "      <td>2.000000</td>\n",
       "      <td>0.466216</td>\n",
       "      <td>0.139642</td>\n",
       "      <td>0.004467</td>\n",
       "      <td>0.001510</td>\n",
       "      <td>0.000000</td>\n",
       "      <td>1212.000000</td>\n",
       "      <td>202.000000</td>\n",
       "      <td>1313.000000</td>\n",
       "      <td>202.000000</td>\n",
       "      <td>1.000000</td>\n",
       "      <td>0.000000</td>\n",
       "      <td>0.000008</td>\n",
       "      <td>0.008182</td>\n",
       "    </tr>\n",
       "    <tr>\n",
       "      <th>25%</th>\n",
       "      <td>6.000000</td>\n",
       "      <td>4.355029</td>\n",
       "      <td>4.473369</td>\n",
       "      <td>0.408141</td>\n",
       "      <td>0.173513</td>\n",
       "      <td>0.063683</td>\n",
       "      <td>8585.000000</td>\n",
       "      <td>8282.000000</td>\n",
       "      <td>7171.000000</td>\n",
       "      <td>1818.000000</td>\n",
       "      <td>909.000000</td>\n",
       "      <td>2626.000000</td>\n",
       "      <td>0.213614</td>\n",
       "      <td>0.017754</td>\n",
       "    </tr>\n",
       "    <tr>\n",
       "      <th>50%</th>\n",
       "      <td>11.000000</td>\n",
       "      <td>8.568299</td>\n",
       "      <td>8.750720</td>\n",
       "      <td>0.656336</td>\n",
       "      <td>0.281880</td>\n",
       "      <td>0.181890</td>\n",
       "      <td>9898.000000</td>\n",
       "      <td>12525.000000</td>\n",
       "      <td>9393.000000</td>\n",
       "      <td>4849.000000</td>\n",
       "      <td>1818.000000</td>\n",
       "      <td>5656.000000</td>\n",
       "      <td>0.390836</td>\n",
       "      <td>0.024127</td>\n",
       "    </tr>\n",
       "    <tr>\n",
       "      <th>75%</th>\n",
       "      <td>16.000000</td>\n",
       "      <td>12.358580</td>\n",
       "      <td>12.825855</td>\n",
       "      <td>0.982838</td>\n",
       "      <td>0.426231</td>\n",
       "      <td>0.483262</td>\n",
       "      <td>11212.000000</td>\n",
       "      <td>15353.000000</td>\n",
       "      <td>11817.000000</td>\n",
       "      <td>9091.000000</td>\n",
       "      <td>2929.000000</td>\n",
       "      <td>10910.000000</td>\n",
       "      <td>0.619396</td>\n",
       "      <td>0.032588</td>\n",
       "    </tr>\n",
       "    <tr>\n",
       "      <th>max</th>\n",
       "      <td>20.000000</td>\n",
       "      <td>18.961695</td>\n",
       "      <td>18.982149</td>\n",
       "      <td>2.105013</td>\n",
       "      <td>1.693726</td>\n",
       "      <td>3.308144</td>\n",
       "      <td>18080.000000</td>\n",
       "      <td>20000.000000</td>\n",
       "      <td>19393.000000</td>\n",
       "      <td>19595.000000</td>\n",
       "      <td>4950.000000</td>\n",
       "      <td>19596.000000</td>\n",
       "      <td>1.762928</td>\n",
       "      <td>0.065660</td>\n",
       "    </tr>\n",
       "  </tbody>\n",
       "</table>\n",
       "</div>"
      ],
      "text/plain": [
       "           numbands          cbeg          cend        cpvbeg        cpvend  \\\n",
       "count  54590.000000  54590.000000  54590.000000  54590.000000  54590.000000   \n",
       "mean      11.000000      8.435492      8.708565      0.715538      0.320608   \n",
       "std        5.744615      4.745258      4.939600      0.388460      0.211854   \n",
       "min        2.000000      0.466216      0.139642      0.004467      0.001510   \n",
       "25%        6.000000      4.355029      4.473369      0.408141      0.173513   \n",
       "50%       11.000000      8.568299      8.750720      0.656336      0.281880   \n",
       "75%       16.000000     12.358580     12.825855      0.982838      0.426231   \n",
       "max       20.000000     18.961695     18.982149      2.105013      1.693726   \n",
       "\n",
       "           cabsdiff           cf1           bw1           cf2           bw2  \\\n",
       "count  54590.000000  54590.000000  54590.000000  54590.000000  54590.000000   \n",
       "mean       0.359094   9851.063748  11626.087195   9620.496062   5859.830738   \n",
       "std        0.437873   2216.202149   4728.925110   3055.527458   4566.205502   \n",
       "min        0.000000   1212.000000    202.000000   1313.000000    202.000000   \n",
       "25%        0.063683   8585.000000   8282.000000   7171.000000   1818.000000   \n",
       "50%        0.181890   9898.000000  12525.000000   9393.000000   4849.000000   \n",
       "75%        0.483262  11212.000000  15353.000000  11817.000000   9091.000000   \n",
       "max        3.308144  18080.000000  20000.000000  19393.000000  19595.000000   \n",
       "\n",
       "          cfabsdiff     bwabsdiff    cpvabsdiff         rsmse  \n",
       "count  54590.000000  54590.000000  54590.000000  54590.000000  \n",
       "mean    1971.483971   6892.882213      0.445932      0.025794  \n",
       "std     1298.573502   5023.236709      0.309137      0.009890  \n",
       "min        1.000000      0.000000      0.000008      0.008182  \n",
       "25%      909.000000   2626.000000      0.213614      0.017754  \n",
       "50%     1818.000000   5656.000000      0.390836      0.024127  \n",
       "75%     2929.000000  10910.000000      0.619396      0.032588  \n",
       "max     4950.000000  19596.000000      1.762928      0.065660  "
      ]
     },
     "execution_count": 77,
     "metadata": {},
     "output_type": "execute_result"
    }
   ],
   "source": [
    "unstable_group.describe()"
   ]
  },
  {
   "cell_type": "code",
   "execution_count": 78,
   "metadata": {},
   "outputs": [
    {
     "data": {
      "text/plain": [
       "array(['7171-9091--9696-12929--up.wav', '9191-11515--7575-1818--down.wav',\n",
       "       '15858-6666--14444-202--down.wav', ...,\n",
       "       '9292-9697--11413-7071--up.wav', '12322-13333--10808-606--down.wav',\n",
       "       '5656-8080--5454-2828--down.wav'], dtype=object)"
      ]
     },
     "execution_count": 78,
     "metadata": {},
     "output_type": "execute_result"
    }
   ],
   "source": [
    "unstable_group.fn.unique()"
   ]
  },
  {
   "cell_type": "code",
   "execution_count": 86,
   "metadata": {
    "collapsed": true
   },
   "outputs": [],
   "source": [
    "tf = 'data/8686-11717--10706-7273--up.wav'\n",
    "t = unstable_group.query('fn == @tf')"
   ]
  },
  {
   "cell_type": "code",
   "execution_count": 80,
   "metadata": {},
   "outputs": [
    {
     "ename": "AssertionError",
     "evalue": "",
     "output_type": "error",
     "traceback": [
      "\u001b[0;31m---------------------------------------------------------------------------\u001b[0m",
      "\u001b[0;31mAssertionError\u001b[0m                            Traceback (most recent call last)",
      "\u001b[0;32m<ipython-input-80-af18235320ce>\u001b[0m in \u001b[0;36m<module>\u001b[0;34m()\u001b[0m\n\u001b[0;32m----> 1\u001b[0;31m \u001b[0mmbsa_quickplot\u001b[0m\u001b[0;34m(\u001b[0m\u001b[0mtf\u001b[0m\u001b[0;34m,\u001b[0m \u001b[0;36m6\u001b[0m\u001b[0;34m,\u001b[0m \u001b[0mto_fig\u001b[0m\u001b[0;34m=\u001b[0m\u001b[0;34m'5aNoise.pdf'\u001b[0m\u001b[0;34m)\u001b[0m\u001b[0;34m\u001b[0m\u001b[0m\n\u001b[0m",
      "\u001b[0;32m<ipython-input-34-a9c7e2589b2d>\u001b[0m in \u001b[0;36mmbsa_quickplot\u001b[0;34m(fn, num_bands, figsize, to_fig)\u001b[0m\n\u001b[1;32m      1\u001b[0m \u001b[0;32mdef\u001b[0m \u001b[0mmbsa_quickplot\u001b[0m\u001b[0;34m(\u001b[0m\u001b[0mfn\u001b[0m\u001b[0;34m,\u001b[0m \u001b[0mnum_bands\u001b[0m\u001b[0;34m,\u001b[0m \u001b[0mfigsize\u001b[0m\u001b[0;34m=\u001b[0m\u001b[0;34m(\u001b[0m\u001b[0;36m4\u001b[0m\u001b[0;34m,\u001b[0m\u001b[0;36m4\u001b[0m\u001b[0;34m)\u001b[0m\u001b[0;34m,\u001b[0m \u001b[0mto_fig\u001b[0m\u001b[0;34m=\u001b[0m\u001b[0;32mNone\u001b[0m\u001b[0;34m)\u001b[0m\u001b[0;34m:\u001b[0m\u001b[0;34m\u001b[0m\u001b[0m\n\u001b[0;32m----> 2\u001b[0;31m     \u001b[0mmbsa\u001b[0m \u001b[0;34m=\u001b[0m \u001b[0mMultibandAnalysis\u001b[0m\u001b[0;34m(\u001b[0m\u001b[0mMonoSound\u001b[0m\u001b[0;34m.\u001b[0m\u001b[0mfrom_file\u001b[0m\u001b[0;34m(\u001b[0m\u001b[0mdir_noises\u001b[0m \u001b[0;34m+\u001b[0m \u001b[0mfn\u001b[0m\u001b[0;34m)\u001b[0m\u001b[0;34m)\u001b[0m\u001b[0;34m\u001b[0m\u001b[0m\n\u001b[0m\u001b[1;32m      3\u001b[0m     \u001b[0mmbsa\u001b[0m\u001b[0;34m.\u001b[0m\u001b[0mbands_split\u001b[0m \u001b[0;34m=\u001b[0m \u001b[0mget_split_freqs_glitch_fix\u001b[0m\u001b[0;34m(\u001b[0m\u001b[0mnum_bands\u001b[0m\u001b[0;34m)\u001b[0m\u001b[0;34m\u001b[0m\u001b[0m\n\u001b[1;32m      4\u001b[0m     \u001b[0mmov\u001b[0m \u001b[0;34m=\u001b[0m \u001b[0mMovement\u001b[0m\u001b[0;34m(\u001b[0m\u001b[0mmbsa\u001b[0m\u001b[0;34m)\u001b[0m\u001b[0;34m\u001b[0m\u001b[0m\n\u001b[1;32m      5\u001b[0m     \u001b[0mMultibandPlot\u001b[0m\u001b[0;34m(\u001b[0m\u001b[0mmbsa\u001b[0m\u001b[0;34m)\u001b[0m\u001b[0;34m.\u001b[0m\u001b[0mplot\u001b[0m\u001b[0;34m(\u001b[0m\u001b[0mfigsize\u001b[0m\u001b[0;34m=\u001b[0m\u001b[0mfigsize\u001b[0m\u001b[0;34m,\u001b[0m \u001b[0mto_fig\u001b[0m\u001b[0;34m=\u001b[0m\u001b[0mto_fig\u001b[0m\u001b[0;34m)\u001b[0m\u001b[0;34m\u001b[0m\u001b[0m\n",
      "\u001b[0;32m/Users/ech/workspace/phd/paper_data/dafx17/framework.py\u001b[0m in \u001b[0;36mfrom_file\u001b[0;34m(filepath)\u001b[0m\n\u001b[1;32m     86\u001b[0m     \u001b[0;34m@\u001b[0m\u001b[0mstaticmethod\u001b[0m\u001b[0;34m\u001b[0m\u001b[0m\n\u001b[1;32m     87\u001b[0m     \u001b[0;32mdef\u001b[0m \u001b[0mfrom_file\u001b[0m\u001b[0;34m(\u001b[0m\u001b[0mfilepath\u001b[0m\u001b[0;34m)\u001b[0m\u001b[0;34m:\u001b[0m\u001b[0;34m\u001b[0m\u001b[0m\n\u001b[0;32m---> 88\u001b[0;31m         \u001b[0;32massert\u001b[0m \u001b[0mos\u001b[0m\u001b[0;34m.\u001b[0m\u001b[0mpath\u001b[0m\u001b[0;34m.\u001b[0m\u001b[0misfile\u001b[0m\u001b[0;34m(\u001b[0m\u001b[0mfilepath\u001b[0m\u001b[0;34m)\u001b[0m\u001b[0;34m\u001b[0m\u001b[0m\n\u001b[0m\u001b[1;32m     89\u001b[0m         \u001b[0;32mreturn\u001b[0m \u001b[0mMonoSound\u001b[0m\u001b[0;34m(\u001b[0m\u001b[0mfilepath\u001b[0m\u001b[0;34m,\u001b[0m \u001b[0;32mNone\u001b[0m\u001b[0;34m)\u001b[0m\u001b[0;34m\u001b[0m\u001b[0m\n\u001b[1;32m     90\u001b[0m \u001b[0;34m\u001b[0m\u001b[0m\n",
      "\u001b[0;31mAssertionError\u001b[0m: "
     ]
    }
   ],
   "source": [
    "mbsa_quickplot(tf, 6, to_fig='5aNoise.pdf')"
   ]
  },
  {
   "cell_type": "code",
   "execution_count": 85,
   "metadata": {},
   "outputs": [
    {
     "ename": "AssertionError",
     "evalue": "",
     "output_type": "error",
     "traceback": [
      "\u001b[0;31m---------------------------------------------------------------------------\u001b[0m",
      "\u001b[0;31mAssertionError\u001b[0m                            Traceback (most recent call last)",
      "\u001b[0;32m<ipython-input-85-c2dee574cfd7>\u001b[0m in \u001b[0;36m<module>\u001b[0;34m()\u001b[0m\n\u001b[0;32m----> 1\u001b[0;31m \u001b[0mmbsa_quickplot\u001b[0m\u001b[0;34m(\u001b[0m\u001b[0mtf\u001b[0m\u001b[0;34m,\u001b[0m \u001b[0;36m8\u001b[0m\u001b[0;34m,\u001b[0m \u001b[0mto_fig\u001b[0m\u001b[0;34m=\u001b[0m\u001b[0;34m'5bNoise.pdf'\u001b[0m\u001b[0;34m)\u001b[0m\u001b[0;34m\u001b[0m\u001b[0m\n\u001b[0m",
      "\u001b[0;32m<ipython-input-34-a9c7e2589b2d>\u001b[0m in \u001b[0;36mmbsa_quickplot\u001b[0;34m(fn, num_bands, figsize, to_fig)\u001b[0m\n\u001b[1;32m      1\u001b[0m \u001b[0;32mdef\u001b[0m \u001b[0mmbsa_quickplot\u001b[0m\u001b[0;34m(\u001b[0m\u001b[0mfn\u001b[0m\u001b[0;34m,\u001b[0m \u001b[0mnum_bands\u001b[0m\u001b[0;34m,\u001b[0m \u001b[0mfigsize\u001b[0m\u001b[0;34m=\u001b[0m\u001b[0;34m(\u001b[0m\u001b[0;36m4\u001b[0m\u001b[0;34m,\u001b[0m\u001b[0;36m4\u001b[0m\u001b[0;34m)\u001b[0m\u001b[0;34m,\u001b[0m \u001b[0mto_fig\u001b[0m\u001b[0;34m=\u001b[0m\u001b[0;32mNone\u001b[0m\u001b[0;34m)\u001b[0m\u001b[0;34m:\u001b[0m\u001b[0;34m\u001b[0m\u001b[0m\n\u001b[0;32m----> 2\u001b[0;31m     \u001b[0mmbsa\u001b[0m \u001b[0;34m=\u001b[0m \u001b[0mMultibandAnalysis\u001b[0m\u001b[0;34m(\u001b[0m\u001b[0mMonoSound\u001b[0m\u001b[0;34m.\u001b[0m\u001b[0mfrom_file\u001b[0m\u001b[0;34m(\u001b[0m\u001b[0mdir_noises\u001b[0m \u001b[0;34m+\u001b[0m \u001b[0mfn\u001b[0m\u001b[0;34m)\u001b[0m\u001b[0;34m)\u001b[0m\u001b[0;34m\u001b[0m\u001b[0m\n\u001b[0m\u001b[1;32m      3\u001b[0m     \u001b[0mmbsa\u001b[0m\u001b[0;34m.\u001b[0m\u001b[0mbands_split\u001b[0m \u001b[0;34m=\u001b[0m \u001b[0mget_split_freqs_glitch_fix\u001b[0m\u001b[0;34m(\u001b[0m\u001b[0mnum_bands\u001b[0m\u001b[0;34m)\u001b[0m\u001b[0;34m\u001b[0m\u001b[0m\n\u001b[1;32m      4\u001b[0m     \u001b[0mmov\u001b[0m \u001b[0;34m=\u001b[0m \u001b[0mMovement\u001b[0m\u001b[0;34m(\u001b[0m\u001b[0mmbsa\u001b[0m\u001b[0;34m)\u001b[0m\u001b[0;34m\u001b[0m\u001b[0m\n\u001b[1;32m      5\u001b[0m     \u001b[0mMultibandPlot\u001b[0m\u001b[0;34m(\u001b[0m\u001b[0mmbsa\u001b[0m\u001b[0;34m)\u001b[0m\u001b[0;34m.\u001b[0m\u001b[0mplot\u001b[0m\u001b[0;34m(\u001b[0m\u001b[0mfigsize\u001b[0m\u001b[0;34m=\u001b[0m\u001b[0mfigsize\u001b[0m\u001b[0;34m,\u001b[0m \u001b[0mto_fig\u001b[0m\u001b[0;34m=\u001b[0m\u001b[0mto_fig\u001b[0m\u001b[0;34m)\u001b[0m\u001b[0;34m\u001b[0m\u001b[0m\n",
      "\u001b[0;32m/Users/ech/workspace/phd/paper_data/dafx17/framework.py\u001b[0m in \u001b[0;36mfrom_file\u001b[0;34m(filepath)\u001b[0m\n\u001b[1;32m     86\u001b[0m     \u001b[0;34m@\u001b[0m\u001b[0mstaticmethod\u001b[0m\u001b[0;34m\u001b[0m\u001b[0m\n\u001b[1;32m     87\u001b[0m     \u001b[0;32mdef\u001b[0m \u001b[0mfrom_file\u001b[0m\u001b[0;34m(\u001b[0m\u001b[0mfilepath\u001b[0m\u001b[0;34m)\u001b[0m\u001b[0;34m:\u001b[0m\u001b[0;34m\u001b[0m\u001b[0m\n\u001b[0;32m---> 88\u001b[0;31m         \u001b[0;32massert\u001b[0m \u001b[0mos\u001b[0m\u001b[0;34m.\u001b[0m\u001b[0mpath\u001b[0m\u001b[0;34m.\u001b[0m\u001b[0misfile\u001b[0m\u001b[0;34m(\u001b[0m\u001b[0mfilepath\u001b[0m\u001b[0;34m)\u001b[0m\u001b[0;34m\u001b[0m\u001b[0m\n\u001b[0m\u001b[1;32m     89\u001b[0m         \u001b[0;32mreturn\u001b[0m \u001b[0mMonoSound\u001b[0m\u001b[0;34m(\u001b[0m\u001b[0mfilepath\u001b[0m\u001b[0;34m,\u001b[0m \u001b[0;32mNone\u001b[0m\u001b[0;34m)\u001b[0m\u001b[0;34m\u001b[0m\u001b[0m\n\u001b[1;32m     90\u001b[0m \u001b[0;34m\u001b[0m\u001b[0m\n",
      "\u001b[0;31mAssertionError\u001b[0m: "
     ]
    }
   ],
   "source": [
    "mbsa_quickplot(tf, 8, to_fig='5bNoise.pdf')"
   ]
  },
  {
   "cell_type": "code",
   "execution_count": 84,
   "metadata": {},
   "outputs": [
    {
     "data": {
      "text/plain": [
       "279856"
      ]
     },
     "execution_count": 84,
     "metadata": {},
     "output_type": "execute_result"
    }
   ],
   "source": [
    "len(noise_data_calc.query('correct == True'))"
   ]
  },
  {
   "cell_type": "code",
   "execution_count": 83,
   "metadata": {},
   "outputs": [
    {
     "data": {
      "text/plain": [
       "85474"
      ]
     },
     "execution_count": 83,
     "metadata": {},
     "output_type": "execute_result"
    }
   ],
   "source": [
    "len(noise_data_calc.query('correct == False'))"
   ]
  },
  {
   "cell_type": "code",
   "execution_count": null,
   "metadata": {
    "collapsed": true
   },
   "outputs": [],
   "source": []
  }
 ],
 "metadata": {
  "kernelspec": {
   "display_name": "Python 3",
   "language": "python",
   "name": "python3"
  },
  "language_info": {
   "codemirror_mode": {
    "name": "ipython",
    "version": 3
   },
   "file_extension": ".py",
   "mimetype": "text/x-python",
   "name": "python",
   "nbconvert_exporter": "python",
   "pygments_lexer": "ipython3",
   "version": "3.6.1"
  }
 },
 "nbformat": 4,
 "nbformat_minor": 1
}
