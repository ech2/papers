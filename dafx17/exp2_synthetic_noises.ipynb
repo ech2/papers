{
 "cells": [
  {
   "cell_type": "code",
   "execution_count": 1,
   "metadata": {
    "collapsed": true
   },
   "outputs": [],
   "source": [
    "import sys\n",
    "import json\n",
    "from glob import glob\n",
    "from os.path import basename\n",
    "from multiprocessing import Queue, Pool, Manager\n",
    "from functools import partial\n",
    "from imp import reload\n",
    "\n",
    "import numpy as np\n",
    "import pandas as pd\n",
    "import matplotlib\n",
    "import matplotlib.pyplot as plt\n",
    "import seaborn as sns\n",
    "from scipy.stats import pearsonr\n",
    "from statsmodels.stats.weightstats import CompareMeans, DescrStatsW\n",
    "from sklearn.metrics import mean_squared_error as ms_err\n",
    "\n",
    "import framework ; framework = reload(framework) ; from framework import *\n",
    "import dsp ; dsp = reload(dsp) ; from dsp import *\n",
    "import plotting ; plotting = reload(plotting) ; from plotting import *\n",
    "%matplotlib inline"
   ]
  },
  {
   "cell_type": "markdown",
   "metadata": {},
   "source": [
    "## Generate DataFrames from file names"
   ]
  },
  {
   "cell_type": "code",
   "execution_count": 2,
   "metadata": {
    "collapsed": true
   },
   "outputs": [],
   "source": [
    "dir_noises = 'data/test_noises/'\n",
    "\n",
    "def parse_cfbw(filename):\n",
    "    beg, end, d = filename.replace('.wav', '').split('--')\n",
    "    cf1, bw1 = [int(x) for x in beg.split('-')]\n",
    "    cf2, bw2 = [int(x) for x in end.split('-')]\n",
    "    return [cf1, bw1, cf2, bw2, d]\n",
    "\n",
    "def make_df_from_filenames():\n",
    "    rows = []\n",
    "    for w in glob(dir_noises + '*.wav'):\n",
    "        bn = basename(w)\n",
    "        rows.append([bn] + parse_cfbw(bn))\n",
    "    df = pd.DataFrame(rows, columns=['fn', 'cf1', 'bw1', 'cf2', 'bw2', 'dir'])\n",
    "    df_files = df.iloc[:, 0:1]\n",
    "    df_data = df.iloc[:, 1:]\n",
    "    return df_files, df_data"
   ]
  },
  {
   "cell_type": "code",
   "execution_count": 3,
   "metadata": {
    "collapsed": true
   },
   "outputs": [],
   "source": [
    "noise_files, noise_data_orig = make_df_from_filenames()"
   ]
  },
  {
   "cell_type": "markdown",
   "metadata": {},
   "source": [
    "## Evaluate the method using noises as input"
   ]
  },
  {
   "cell_type": "code",
   "execution_count": 4,
   "metadata": {},
   "outputs": [],
   "source": [
    "def get_split_freqs_glitch_fix(num_bands):  # FIXME glitch in low-frequency bands\n",
    "    if num_bands > 12:  \n",
    "        return get_split_freqs(num_bands)[2:], num_bands - 2\n",
    "    else:\n",
    "        return get_split_freqs(num_bands), num_bands\n",
    "\n",
    "def cmp_to_str(x1, x2):\n",
    "    if x1 < x2:\n",
    "        return 'up'\n",
    "    elif x1 > x2:\n",
    "        return 'down'\n",
    "    else:\n",
    "        return 'still'\n",
    "    \n",
    "\n",
    "def eval_worker(q, num_bands_list, fn):\n",
    "    rows = []\n",
    "    for num_bands in num_bands_list:\n",
    "        msa = MultibandAnalysis(MonoSound.from_file(dir_noises + fn))\n",
    "        msa.bands_split, nbands = get_split_freqs_glitch_fix(num_bands)  # FIXME\n",
    "        m = Movement(msa)\n",
    "        row = [fn, int(nbands)]\n",
    "        row += list(m.report.loc['Band Centroid', :])\n",
    "        row += list(m.report.loc['Cumulative Peak Values', :])\n",
    "        row += [json.dumps([ms_err(b.env, b.render_bpf()) for b in msa.bands])]\n",
    "        row += [json.dumps(m.report_data.tolist())]\n",
    "        rows.append(row)\n",
    "    q.put(rows, True)\n",
    "\n",
    "    \n",
    "def method_eval(num_threads=8, num_bands_list=[2, 4, 6, 8, 10, 12, 16, 18, 20, 22]):\n",
    "    files_total = len(noise_files)\n",
    "    columns=['fn', 'numbands', 'cbeg', 'cend', 'cpvbeg', 'cpvend',\n",
    "             'mse_raw', 'movement_raw']\n",
    "    pool = Pool(num_threads)\n",
    "    res_q = Manager().Queue(maxsize=num_threads)\n",
    "    \n",
    "#     s1 = set(noise_files['fn'])\n",
    "#     s2 = set(pd.read_csv('noise_data_calc-bkp.csv', sep=';')['fn'])\n",
    "#     files = list(s1.symmetric_difference(s2))\n",
    "#     files_total = len(files)\n",
    "#     pool.map_async(partial(eval_worker, res_q, num_bands_list), files)\n",
    "\n",
    "    pool.map_async(partial(eval_worker, res_q, num_bands_list), noise_files['fn'])\n",
    "    count = 0\n",
    "    try:\n",
    "        with open('noise_data_calc.csv', 'w') as f:\n",
    "            f.write(';'.join(columns))\n",
    "            f.write('\\n')\n",
    "            while count < files_total: \n",
    "                for res in res_q.get(True, 30):\n",
    "                    f.write(';'.join([str(c) for c in res]))\n",
    "                    f.write('\\n')\n",
    "                count += 1\n",
    "                sys.stdout.write('{} / {}\\r'.format(count, files_total))\n",
    "                sys.stdout.flush()\n",
    "    finally:\n",
    "        print('\\nDone')"
   ]
  },
  {
   "cell_type": "code",
   "execution_count": null,
   "metadata": {},
   "outputs": [],
   "source": [
    "# method_eval()"
   ]
  },
  {
   "cell_type": "code",
   "execution_count": 16,
   "metadata": {},
   "outputs": [],
   "source": [
    "def import_data(csv_file='noise_data_calc.csv', sep=';'):\n",
    "    df = pd.read_csv(csv_file, sep=sep)\n",
    "    string_enc = df['fn'].str.replace('.wav', '').str.split('--')\n",
    "    df['cabsdiff'] = (df['cend'] - df['cbeg']).abs()\n",
    "    df['cf1'] = string_enc.str.get(0).str.split('-').str.get(0).apply(pd.to_numeric)\n",
    "    df['bw1'] = string_enc.str.get(0).str.split('-').str.get(1).apply(pd.to_numeric)\n",
    "    df['cf2'] = string_enc.str.get(1).str.split('-').str.get(0).apply(pd.to_numeric)\n",
    "    df['bw2'] = string_enc.str.get(1).str.split('-').str.get(1).apply(pd.to_numeric)\n",
    "    df['dirorig'] = string_enc.str.get(2)\n",
    "    df['dirpred'] = df.apply(lambda x: cmp_to_str(x['cbeg'], x['cend']), axis=1)\n",
    "    df['correct'] = df['dirorig'] == df['dirpred']\n",
    "    df['cfabsdiff'] = (df.cf1 - df.cf2).abs()\n",
    "    df['bwabsdiff'] = (df.bw1 - df.bw2).abs()\n",
    "    df['cpvabsdiff'] = (df.cpvbeg - df.cpvend).abs()\n",
    "    df['rsmse'] = [np.sqrt(np.sum(json.loads(rse))) for rse in df['mse_raw']]\n",
    "\n",
    "    return df"
   ]
  },
  {
   "cell_type": "markdown",
   "metadata": {},
   "source": [
    "## Read data"
   ]
  },
  {
   "cell_type": "code",
   "execution_count": 45,
   "metadata": {},
   "outputs": [],
   "source": [
    "# noise_data_calc = import_data()\n",
    "# noise_data_calc.to_csv('noise_data_calc-cached.csv', sep=';')\n",
    "noise_data_calc = pd.read_csv('noise_data_calc-cached.csv', sep=';', index_col=0)\n",
    "noise_data_calc = noise_data_calc.query('dirorig != \"still\"')"
   ]
  },
  {
   "cell_type": "code",
   "execution_count": 46,
   "metadata": {},
   "outputs": [
    {
     "data": {
      "text/html": [
       "<div>\n",
       "<style>\n",
       "    .dataframe thead tr:only-child th {\n",
       "        text-align: right;\n",
       "    }\n",
       "\n",
       "    .dataframe thead th {\n",
       "        text-align: left;\n",
       "    }\n",
       "\n",
       "    .dataframe tbody tr th {\n",
       "        vertical-align: top;\n",
       "    }\n",
       "</style>\n",
       "<table border=\"1\" class=\"dataframe\">\n",
       "  <thead>\n",
       "    <tr style=\"text-align: right;\">\n",
       "      <th></th>\n",
       "      <th>numbands</th>\n",
       "      <th>cbeg</th>\n",
       "      <th>cend</th>\n",
       "      <th>cpvbeg</th>\n",
       "      <th>cpvend</th>\n",
       "      <th>cabsdiff</th>\n",
       "      <th>cf1</th>\n",
       "      <th>bw1</th>\n",
       "      <th>cf2</th>\n",
       "      <th>bw2</th>\n",
       "      <th>cfabsdiff</th>\n",
       "      <th>bwabsdiff</th>\n",
       "      <th>cpvabsdiff</th>\n",
       "      <th>rsmse</th>\n",
       "    </tr>\n",
       "  </thead>\n",
       "  <tbody>\n",
       "    <tr>\n",
       "      <th>count</th>\n",
       "      <td>361660.000000</td>\n",
       "      <td>361660.000000</td>\n",
       "      <td>361660.000000</td>\n",
       "      <td>361660.000000</td>\n",
       "      <td>361660.000000</td>\n",
       "      <td>361660.000000</td>\n",
       "      <td>361660.000000</td>\n",
       "      <td>361660.000000</td>\n",
       "      <td>361660.000000</td>\n",
       "      <td>361660.000000</td>\n",
       "      <td>361660.000000</td>\n",
       "      <td>361660.000000</td>\n",
       "      <td>3.616600e+05</td>\n",
       "      <td>361660.000000</td>\n",
       "    </tr>\n",
       "    <tr>\n",
       "      <th>mean</th>\n",
       "      <td>11.000000</td>\n",
       "      <td>8.360413</td>\n",
       "      <td>8.961884</td>\n",
       "      <td>0.636129</td>\n",
       "      <td>0.323252</td>\n",
       "      <td>0.677096</td>\n",
       "      <td>9247.517005</td>\n",
       "      <td>9377.430764</td>\n",
       "      <td>10751.074600</td>\n",
       "      <td>5460.239368</td>\n",
       "      <td>2374.730354</td>\n",
       "      <td>5328.221755</td>\n",
       "      <td>3.552564e-01</td>\n",
       "      <td>0.024809</td>\n",
       "    </tr>\n",
       "    <tr>\n",
       "      <th>std</th>\n",
       "      <td>5.744571</td>\n",
       "      <td>4.743224</td>\n",
       "      <td>5.067083</td>\n",
       "      <td>0.356774</td>\n",
       "      <td>0.201608</td>\n",
       "      <td>0.650367</td>\n",
       "      <td>3130.715994</td>\n",
       "      <td>4831.418356</td>\n",
       "      <td>3475.015292</td>\n",
       "      <td>3984.684490</td>\n",
       "      <td>1407.252874</td>\n",
       "      <td>3947.537649</td>\n",
       "      <td>2.771762e-01</td>\n",
       "      <td>0.009216</td>\n",
       "    </tr>\n",
       "    <tr>\n",
       "      <th>min</th>\n",
       "      <td>2.000000</td>\n",
       "      <td>0.017884</td>\n",
       "      <td>0.068729</td>\n",
       "      <td>0.004467</td>\n",
       "      <td>0.001510</td>\n",
       "      <td>0.000000</td>\n",
       "      <td>101.000000</td>\n",
       "      <td>202.000000</td>\n",
       "      <td>202.000000</td>\n",
       "      <td>202.000000</td>\n",
       "      <td>1.000000</td>\n",
       "      <td>0.000000</td>\n",
       "      <td>1.866010e-07</td>\n",
       "      <td>0.007419</td>\n",
       "    </tr>\n",
       "    <tr>\n",
       "      <th>25%</th>\n",
       "      <td>6.000000</td>\n",
       "      <td>4.349941</td>\n",
       "      <td>4.724872</td>\n",
       "      <td>0.358138</td>\n",
       "      <td>0.178768</td>\n",
       "      <td>0.171048</td>\n",
       "      <td>7171.000000</td>\n",
       "      <td>5455.000000</td>\n",
       "      <td>8282.000000</td>\n",
       "      <td>2222.000000</td>\n",
       "      <td>1111.000000</td>\n",
       "      <td>2021.000000</td>\n",
       "      <td>1.395896e-01</td>\n",
       "      <td>0.017576</td>\n",
       "    </tr>\n",
       "    <tr>\n",
       "      <th>50%</th>\n",
       "      <td>11.000000</td>\n",
       "      <td>8.372680</td>\n",
       "      <td>8.909726</td>\n",
       "      <td>0.574283</td>\n",
       "      <td>0.276613</td>\n",
       "      <td>0.499024</td>\n",
       "      <td>9393.000000</td>\n",
       "      <td>9495.000000</td>\n",
       "      <td>10807.000000</td>\n",
       "      <td>4647.000000</td>\n",
       "      <td>2323.000000</td>\n",
       "      <td>4445.000000</td>\n",
       "      <td>2.918574e-01</td>\n",
       "      <td>0.023021</td>\n",
       "    </tr>\n",
       "    <tr>\n",
       "      <th>75%</th>\n",
       "      <td>16.000000</td>\n",
       "      <td>12.226154</td>\n",
       "      <td>13.122659</td>\n",
       "      <td>0.861084</td>\n",
       "      <td>0.424415</td>\n",
       "      <td>0.991856</td>\n",
       "      <td>11312.000000</td>\n",
       "      <td>13131.000000</td>\n",
       "      <td>13232.000000</td>\n",
       "      <td>8081.000000</td>\n",
       "      <td>3536.000000</td>\n",
       "      <td>7878.000000</td>\n",
       "      <td>5.100089e-01</td>\n",
       "      <td>0.030572</td>\n",
       "    </tr>\n",
       "    <tr>\n",
       "      <th>max</th>\n",
       "      <td>20.000000</td>\n",
       "      <td>18.990681</td>\n",
       "      <td>18.993211</td>\n",
       "      <td>2.105013</td>\n",
       "      <td>1.693726</td>\n",
       "      <td>5.750067</td>\n",
       "      <td>18989.000000</td>\n",
       "      <td>20000.000000</td>\n",
       "      <td>19898.000000</td>\n",
       "      <td>19595.000000</td>\n",
       "      <td>4950.000000</td>\n",
       "      <td>19596.000000</td>\n",
       "      <td>1.762928e+00</td>\n",
       "      <td>0.074658</td>\n",
       "    </tr>\n",
       "  </tbody>\n",
       "</table>\n",
       "</div>"
      ],
      "text/plain": [
       "            numbands           cbeg           cend         cpvbeg  \\\n",
       "count  361660.000000  361660.000000  361660.000000  361660.000000   \n",
       "mean       11.000000       8.360413       8.961884       0.636129   \n",
       "std         5.744571       4.743224       5.067083       0.356774   \n",
       "min         2.000000       0.017884       0.068729       0.004467   \n",
       "25%         6.000000       4.349941       4.724872       0.358138   \n",
       "50%        11.000000       8.372680       8.909726       0.574283   \n",
       "75%        16.000000      12.226154      13.122659       0.861084   \n",
       "max        20.000000      18.990681      18.993211       2.105013   \n",
       "\n",
       "              cpvend       cabsdiff            cf1            bw1  \\\n",
       "count  361660.000000  361660.000000  361660.000000  361660.000000   \n",
       "mean        0.323252       0.677096    9247.517005    9377.430764   \n",
       "std         0.201608       0.650367    3130.715994    4831.418356   \n",
       "min         0.001510       0.000000     101.000000     202.000000   \n",
       "25%         0.178768       0.171048    7171.000000    5455.000000   \n",
       "50%         0.276613       0.499024    9393.000000    9495.000000   \n",
       "75%         0.424415       0.991856   11312.000000   13131.000000   \n",
       "max         1.693726       5.750067   18989.000000   20000.000000   \n",
       "\n",
       "                 cf2            bw2      cfabsdiff      bwabsdiff  \\\n",
       "count  361660.000000  361660.000000  361660.000000  361660.000000   \n",
       "mean    10751.074600    5460.239368    2374.730354    5328.221755   \n",
       "std      3475.015292    3984.684490    1407.252874    3947.537649   \n",
       "min       202.000000     202.000000       1.000000       0.000000   \n",
       "25%      8282.000000    2222.000000    1111.000000    2021.000000   \n",
       "50%     10807.000000    4647.000000    2323.000000    4445.000000   \n",
       "75%     13232.000000    8081.000000    3536.000000    7878.000000   \n",
       "max     19898.000000   19595.000000    4950.000000   19596.000000   \n",
       "\n",
       "         cpvabsdiff          rsmse  \n",
       "count  3.616600e+05  361660.000000  \n",
       "mean   3.552564e-01       0.024809  \n",
       "std    2.771762e-01       0.009216  \n",
       "min    1.866010e-07       0.007419  \n",
       "25%    1.395896e-01       0.017576  \n",
       "50%    2.918574e-01       0.023021  \n",
       "75%    5.100089e-01       0.030572  \n",
       "max    1.762928e+00       0.074658  "
      ]
     },
     "execution_count": 46,
     "metadata": {},
     "output_type": "execute_result"
    }
   ],
   "source": [
    "noise_data_calc.describe()"
   ]
  },
  {
   "cell_type": "markdown",
   "metadata": {},
   "source": [
    "## Test sampling distribution of a mean C_diff"
   ]
  },
  {
   "cell_type": "code",
   "execution_count": 43,
   "metadata": {
    "collapsed": true
   },
   "outputs": [],
   "source": [
    "pred_correct = noise_data_calc.query('correct == True')\n",
    "pred_error = noise_data_calc.query('correct == False')\n",
    "pred_correct_cdiff = pred_correct['cend'] - pred_correct['cbeg']\n",
    "pred_error_cdiff = pred_error['cend'] - pred_error['cbeg']"
   ]
  },
  {
   "cell_type": "code",
   "execution_count": 44,
   "metadata": {},
   "outputs": [
    {
     "data": {
      "text/plain": [
       "'Correct predictions: 279856, wrong predictions: 85474 / 77% correct'"
      ]
     },
     "execution_count": 44,
     "metadata": {},
     "output_type": "execute_result"
    }
   ],
   "source": [
    "'Correct predictions: {}, wrong predictions: {} / {}% correct'.format(\n",
    "    len(pred_correct), len(pred_error),\n",
    "    round(len(pred_correct) / float(len(noise_data_calc)) * 100))"
   ]
  },
  {
   "cell_type": "code",
   "execution_count": 33,
   "metadata": {},
   "outputs": [
    {
     "data": {
      "text/plain": [
       "<matplotlib.axes._subplots.AxesSubplot at 0x7f6922b8ec88>"
      ]
     },
     "execution_count": 33,
     "metadata": {},
     "output_type": "execute_result"
    },
    {
     "data": {
      "image/png": "[encoded data removed]",
      "text/plain": [
       "<matplotlib.figure.Figure at 0x7f6922ba9278>"
      ]
     },
     "metadata": {},
     "output_type": "display_data"
    }
   ],
   "source": [
    "sns.heatmap(noise_data_calc.corr())"
   ]
  },
  {
   "cell_type": "code",
   "execution_count": 34,
   "metadata": {
    "collapsed": true
   },
   "outputs": [],
   "source": [
    "def calc_sm(x, sample_size=20, iters=15000):\n",
    "    return pd.Series([x.abs().sample(sample_size).mean() for _ in range(iters)])"
   ]
  },
  {
   "cell_type": "code",
   "execution_count": 35,
   "metadata": {
    "collapsed": true
   },
   "outputs": [],
   "source": [
    "c_correct_sm = calc_sm(pred_correct_cdiff)\n",
    "c_error_sm = calc_sm(pred_error_cdiff)"
   ]
  },
  {
   "cell_type": "code",
   "execution_count": 36,
   "metadata": {},
   "outputs": [
    {
     "data": {
      "text/plain": [
       "<matplotlib.text.Annotation at 0x7f69570b9400>"
      ]
     },
     "execution_count": 36,
     "metadata": {},
     "output_type": "execute_result"
    },
    {
     "data": {
      "image/png": "[encoded data removed]",
      "text/plain": [
       "<matplotlib.figure.Figure at 0x7f6922bfd748>"
      ]
     },
     "metadata": {},
     "output_type": "display_data"
    }
   ],
   "source": [
    "fig2, (ax1, ax2) = plt.subplots(1, 2, figsize=(8, 4))\n",
    "fig2.tight_layout(w_pad=1.5)\n",
    "\n",
    "pred_correct_cdiff.sample(len(pred_error_cdiff)).abs().hist(bins=100, ax=ax1)\n",
    "pred_error_cdiff.abs().hist(bins=100, ax=ax1)\n",
    "ax1.set_xlim([0, 4])\n",
    "ax1.set_yscale('log')\n",
    "ax1.set_xlabel('$abs(C_d)$')\n",
    "ax1.set_ylabel('Frequency')\n",
    "ax1.legend(['Correct prediction', 'Incorrect prediction'])\n",
    "ax1.annotate('a)', xy=(0.25, 9500))\n",
    "\n",
    "# sns.distplot(c_correct_sm, rug=True, ax=ax2)\n",
    "# sns.distplot(c_error_sm, rug=True, ax=ax2)\n",
    "c_correct_sm.hist(bins=100, ax=ax2)\n",
    "c_error_sm.hist(bins=100, ax=ax2)\n",
    "ax2.set_xlabel('$abs(C_d)$ sample mean (n=30)')\n",
    "ax2.set_ylabel('Frequency')\n",
    "ax2.legend(['Correctgg prediction', 'Incorrect prediction'])\n",
    "ax2.annotate('b)', xy=(0.0775, 480))\n",
    "\n",
    "# fig2.savefig('2cdiff.pdf')"
   ]
  },
  {
   "cell_type": "markdown",
   "metadata": {},
   "source": [
    "There is a slight positive relationship between the absolute centroid descriptor and the prediction correctness:"
   ]
  },
  {
   "cell_type": "code",
   "execution_count": 37,
   "metadata": {},
   "outputs": [
    {
     "data": {
      "text/plain": [
       "(0.31927966900198013, 0.0)"
      ]
     },
     "execution_count": 37,
     "metadata": {},
     "output_type": "execute_result"
    }
   ],
   "source": [
    "pearsonr(noise_data_calc.cabsdiff, noise_data_calc.correct)"
   ]
  },
  {
   "cell_type": "code",
   "execution_count": 38,
   "metadata": {},
   "outputs": [
    {
     "data": {
      "text/plain": [
       "(0.3172454274466241, 0.0)"
      ]
     },
     "execution_count": 38,
     "metadata": {},
     "output_type": "execute_result"
    }
   ],
   "source": [
    "pearsonr(noise_data_calc.cfabsdiff, noise_data_calc.correct)"
   ]
  },
  {
   "cell_type": "markdown",
   "metadata": {},
   "source": [
    "## Test True-False count for each band"
   ]
  },
  {
   "cell_type": "code",
   "execution_count": null,
   "metadata": {
    "collapsed": true
   },
   "outputs": [],
   "source": [
    "def mbsa_quickplot(fn, num_bands, figsize=(4,4), to_fig=None):\n",
    "    mbsa = MultibandAnalysis(MonoSound.from_file(dir_noises + fn))\n",
    "    mbsa.bands_split = get_split_freqs_glitch_fix(num_bands)\n",
    "    mov = Movement(mbsa)\n",
    "    MultibandPlot(mbsa).plot(figsize=figsize, to_fig=to_fig)\n",
    "    return mov.report"
   ]
  },
  {
   "cell_type": "code",
   "execution_count": null,
   "metadata": {
    "collapsed": true
   },
   "outputs": [],
   "source": [
    "def test_diff_bool_still_or_rises(x):\n",
    "    s = np.sum(np.diff(x))\n",
    "    return s == 0 or s == 1\n",
    "\n",
    "filename_group = noise_data_calc.groupby('fn')\n",
    "stable_group = filename_group.filter(\n",
    "                    lambda x: test_diff_bool_still_or_rises(x.correct))\n",
    "unstable_group = filename_group.filter(\n",
    "                    lambda x: not test_diff_bool_still_or_rises(x.correct))"
   ]
  },
  {
   "cell_type": "code",
   "execution_count": null,
   "metadata": {},
   "outputs": [],
   "source": [
    "df = pd.DataFrame(columns=['numbands', 'correct', 'count'])\n",
    "for (b, c), count in unstable_group.groupby(['numbands', 'correct']).count()['fn'].iteritems():\n",
    "    df.loc[len(df)] = [b, 'Correct' if c else 'Incorrect', count]\n",
    "df.numbands = df.numbands.astype(np.int)\n",
    "\n",
    "ax = sns.barplot(x='numbands', y='count', hue='correct', data=df)\n",
    "ax.set_ylabel('Frequency')\n",
    "ax.set_xlabel('Number of frequency bands')\n",
    "ax.get_legend().set_title(None)\n",
    "plt.gcf().savefig('3FalseTrueCount.pdf')"
   ]
  },
  {
   "cell_type": "code",
   "execution_count": null,
   "metadata": {},
   "outputs": [],
   "source": [
    "noise_data_calc.corr()"
   ]
  },
  {
   "cell_type": "code",
   "execution_count": null,
   "metadata": {},
   "outputs": [],
   "source": [
    "fig4, (ax1, ax2) = plt.subplots(1, 2, figsize=(8, 4), sharey=True)\n",
    "fig4.tight_layout(w_pad=1.5)\n",
    "\n",
    "unstable_group.groupby('numbands').correct.agg(['mean', 'std']).plot(ax=ax1)\n",
    "stable_group.groupby('numbands').correct.agg(['mean', 'std']).plot(ax=ax2)\n",
    "\n",
    "ax1.set_ylim(0, 1)\n",
    "ax1.set_ylabel('Prediction rate')\n",
    "ax1.set_xlabel('Number of frequency bands')\n",
    "ax1.annotate('a)', xy=(2.7, 0.84))\n",
    "\n",
    "ax2.set_xlabel('Number of frequency bands')\n",
    "ax2.annotate('b)', xy=(2.7, 0.84))\n",
    "\n",
    "fig4.savefig('4PR.pdf')"
   ]
  },
  {
   "cell_type": "code",
   "execution_count": null,
   "metadata": {},
   "outputs": [],
   "source": [
    "stable_group.describe()"
   ]
  },
  {
   "cell_type": "code",
   "execution_count": null,
   "metadata": {},
   "outputs": [],
   "source": [
    "unstable_group.describe()"
   ]
  },
  {
   "cell_type": "code",
   "execution_count": null,
   "metadata": {},
   "outputs": [],
   "source": [
    "unstable_group.fn.unique()"
   ]
  },
  {
   "cell_type": "code",
   "execution_count": null,
   "metadata": {
    "collapsed": true
   },
   "outputs": [],
   "source": [
    "tf = '8686-11717--10706-7273--up.wav'\n",
    "t = unstable_group.query('fn == @tf')"
   ]
  },
  {
   "cell_type": "code",
   "execution_count": null,
   "metadata": {},
   "outputs": [],
   "source": [
    "t"
   ]
  },
  {
   "cell_type": "code",
   "execution_count": null,
   "metadata": {},
   "outputs": [],
   "source": [
    "mbsa_quickplot(tf, 6, to_fig='5aNoise.pdf')"
   ]
  },
  {
   "cell_type": "code",
   "execution_count": null,
   "metadata": {},
   "outputs": [],
   "source": [
    "mbsa_quickplot(tf, 8, to_fig='5bNoise.pdf')"
   ]
  },
  {
   "cell_type": "code",
   "execution_count": null,
   "metadata": {},
   "outputs": [],
   "source": [
    "len(noise_data_calc.query('correct == True'))"
   ]
  },
  {
   "cell_type": "code",
   "execution_count": null,
   "metadata": {},
   "outputs": [],
   "source": [
    "len(noise_data_calc.query('correct == False'))"
   ]
  },
  {
   "cell_type": "code",
   "execution_count": null,
   "metadata": {
    "collapsed": true
   },
   "outputs": [],
   "source": []
  }
 ],
 "metadata": {
  "kernelspec": {
   "display_name": "Python 3",
   "language": "python",
   "name": "python3"
  },
  "language_info": {
   "codemirror_mode": {
    "name": "ipython",
    "version": 3
   },
   "file_extension": ".py",
   "mimetype": "text/x-python",
   "name": "python",
   "nbconvert_exporter": "python",
   "pygments_lexer": "ipython3",
   "version": "3.6.1"
  }
 },
 "nbformat": 4,
 "nbformat_minor": 2
}
