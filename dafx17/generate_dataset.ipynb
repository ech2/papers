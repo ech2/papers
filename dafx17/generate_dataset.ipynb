{
 "cells": [
  {
   "cell_type": "markdown",
   "metadata": {},
   "source": [
    "## Utility functions"
   ]
  },
  {
   "cell_type": "code",
   "execution_count": null,
   "metadata": {
    "collapsed": true
   },
   "outputs": [],
   "source": [
    "def between(x1, x2):\n",
    "    return int((x2 - x1) * 0.5) + x1\n",
    "\n",
    "\n",
    "def make_dir_if_absent(dir_name):\n",
    "    if not os.path.exists(dir_name):\n",
    "        os.makedirs(dir_name)"
   ]
  },
  {
   "cell_type": "markdown",
   "metadata": {},
   "source": [
    "## Generate sine tones"
   ]
  },
  {
   "cell_type": "code",
   "execution_count": null,
   "metadata": {
    "collapsed": true
   },
   "outputs": [],
   "source": [
    "make_dir_if_absent('data/test_sines')\n",
    "! csound gen_test_tones.csd --omacro:TEST_TYPE=1 -f --output=data/test_sines/sweep_down.wav\n",
    "! csound gen_test_tones.csd --omacro:TEST_TYPE=2 -f --output=data/test_sines/sweep_up.wav\n",
    "! csound gen_test_tones.csd --omacro:TEST_TYPE=3 -f --output=data/test_sines/sweep_both.wav"
   ]
  },
  {
   "cell_type": "markdown",
   "metadata": {},
   "source": [
    "## Generate noises\n",
    "### Create a list with modulation parameters"
   ]
  },
  {
   "cell_type": "code",
   "execution_count": null,
   "metadata": {
    "collapsed": true
   },
   "outputs": [],
   "source": [
    "def filter_freq_pairs(tupl):\n",
    "    (f1l, f1h), (f2l, f2h) = tupl\n",
    "    c1 = between(f1l, f1h)\n",
    "    c2 = between(f2l, f2h)\n",
    "    return abs(c1 - c2) < 5000\n",
    "\n",
    "\n",
    "def gen_freq_list():\n",
    "    return [(int(f1), int(f2))\n",
    "            for (f1, f2)\n",
    "            in combinations(np.linspace(0, 20000, 100), 2)\n",
    "            if f2 > f1]\n",
    "\n",
    "\n",
    "freqs = gen_freq_list()\n",
    "pair_freqs = filter(filter_freq_pairs,\n",
    "                    combinations(freqs, 2))[::200]\n",
    "total_combs = len(pair_freqs)"
   ]
  },
  {
   "cell_type": "markdown",
   "metadata": {},
   "source": [
    "### Sound generation routines"
   ]
  },
  {
   "cell_type": "code",
   "execution_count": null,
   "metadata": {
    "collapsed": true
   },
   "outputs": [],
   "source": [
    "noises_dir = 'data/test_noises/'\n",
    "cmd_template = 'csound gen_noises.csd --omacro:cf1={} --omacro:bw1={} ' \\\n",
    "               '--omacro:cf2={} --omacro:bw2={} -f --output={}'\n",
    "\n",
    "    \n",
    "def cmp_as_string(x, y):\n",
    "    if x > y:\n",
    "        return 'down'\n",
    "    elif x < y:\n",
    "        return 'up'\n",
    "    else:\n",
    "        return 'still'\n",
    "\n",
    "\n",
    "def render_file(low1, high1, low2, high2):\n",
    "    bw1 = high1 - low1\n",
    "    cf1 = low1 + int(bw1 * 0.5)\n",
    "    bw2 = high2 - low2\n",
    "    cf2 = low2 + int(bw2 * 0.5)\n",
    "    wav_name = '{}-{}--{}-{}--{}.wav'.format(cf1, bw1, cf2, bw2,\n",
    "                                             cmp_as_string(cf1, cf2))\n",
    "    if os.path.isfile(noises_dir + wav_name):\n",
    "        return Popen('false')\n",
    "    cmd = cmd_template.format(cf1, bw1, cf2, bw2, noises_dir + wav_name)\n",
    "    return Popen(cmd.split(' '))\n",
    "\n",
    "\n",
    "def run_parallel(pair_freq_list, num_threads=4):\n",
    "    procs = set()\n",
    "    count = 0\n",
    "    for (low1, high1), (low2, high2) in pair_freq_list:\n",
    "        count += 1\n",
    "        sys.stdout.write('{} / {}\\r'.format(count, total_combs))\n",
    "        procs.add(render_file(low1, high1, low2, high2))\n",
    "        if len(procs) > num_threads:\n",
    "            os.wait()  # won't work on Windows\n",
    "            procs -= {p for p in procs if p.poll() is not None}"
   ]
  },
  {
   "cell_type": "markdown",
   "metadata": {},
   "source": [
    "### Run generation"
   ]
  },
  {
   "cell_type": "code",
   "execution_count": null,
   "metadata": {
    "collapsed": true
   },
   "outputs": [],
   "source": [
    "make_dir_if_absent(noises_dir)\n",
    "run_parallel(pair_freqs, num_threads=8)"
   ]
  }
 ],
 "metadata": {
  "kernelspec": {
   "display_name": "Python 3",
   "language": "python",
   "name": "python3"
  },
  "language_info": {
   "codemirror_mode": {
    "name": "ipython",
    "version": 3
   },
   "file_extension": ".py",
   "mimetype": "text/x-python",
   "name": "python",
   "nbconvert_exporter": "python",
   "pygments_lexer": "ipython3",
   "version": "3.6.1"
  }
 },
 "nbformat": 4,
 "nbformat_minor": 1
}
